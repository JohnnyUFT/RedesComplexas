{
 "cells": [
  {
   "cell_type": "markdown",
   "metadata": {},
   "source": [
    "# Covid-19 - Brasil\n",
    "## Redes Complexas - 2020/1\n",
    "Alunos: \n",
    "1. Johnny Gomes\n",
    "2. Nomeriano Neto\n",
    "3. Reinaldo Ribeiro"
   ]
  },
  {
   "cell_type": "code",
   "execution_count": 2,
   "metadata": {},
   "outputs": [],
   "source": [
    "import pandas as pd\n",
    "import networkx as nx\n",
    "from matplotlib import pyplot as plt\n",
    "%matplotlib inline\n",
    "import seaborn as sns"
   ]
  },
  {
   "cell_type": "markdown",
   "metadata": {},
   "source": [
    "### Entendimento dos dados a partir de graficos e outros indicadores "
   ]
  },
  {
   "cell_type": "code",
   "execution_count": 160,
   "metadata": {},
   "outputs": [],
   "source": [
    "# lê info regionais - divididos por estados, inclusive\n",
    "\n",
    "df = pd.read_csv(\"./data/covid_regioes_26-ago.csv\")\n",
    "# df.sample(5)\n"
   ]
  },
  {
   "cell_type": "code",
   "execution_count": 161,
   "metadata": {},
   "outputs": [
    {
     "data": {
      "text/html": [
       "<div>\n",
       "<style scoped>\n",
       "    .dataframe tbody tr th:only-of-type {\n",
       "        vertical-align: middle;\n",
       "    }\n",
       "\n",
       "    .dataframe tbody tr th {\n",
       "        vertical-align: top;\n",
       "    }\n",
       "\n",
       "    .dataframe thead th {\n",
       "        text-align: right;\n",
       "    }\n",
       "</style>\n",
       "<table border=\"1\" class=\"dataframe\">\n",
       "  <thead>\n",
       "    <tr style=\"text-align: right;\">\n",
       "      <th></th>\n",
       "      <th>regiao</th>\n",
       "      <th>estado</th>\n",
       "      <th>coduf</th>\n",
       "      <th>data</th>\n",
       "      <th>semanaEpi</th>\n",
       "      <th>casosAcumulado</th>\n",
       "      <th>casosNovos</th>\n",
       "      <th>obitosAcumulado</th>\n",
       "      <th>obitosNovos</th>\n",
       "    </tr>\n",
       "  </thead>\n",
       "  <tbody>\n",
       "    <tr>\n",
       "      <th>0</th>\n",
       "      <td>Norte</td>\n",
       "      <td>AC</td>\n",
       "      <td>12</td>\n",
       "      <td>25/02/2020</td>\n",
       "      <td>9</td>\n",
       "      <td>0</td>\n",
       "      <td>0</td>\n",
       "      <td>0</td>\n",
       "      <td>0</td>\n",
       "    </tr>\n",
       "    <tr>\n",
       "      <th>1</th>\n",
       "      <td>Norte</td>\n",
       "      <td>AC</td>\n",
       "      <td>12</td>\n",
       "      <td>26/02/2020</td>\n",
       "      <td>9</td>\n",
       "      <td>0</td>\n",
       "      <td>0</td>\n",
       "      <td>0</td>\n",
       "      <td>0</td>\n",
       "    </tr>\n",
       "    <tr>\n",
       "      <th>2</th>\n",
       "      <td>Norte</td>\n",
       "      <td>AC</td>\n",
       "      <td>12</td>\n",
       "      <td>27/02/2020</td>\n",
       "      <td>9</td>\n",
       "      <td>0</td>\n",
       "      <td>0</td>\n",
       "      <td>0</td>\n",
       "      <td>0</td>\n",
       "    </tr>\n",
       "    <tr>\n",
       "      <th>3</th>\n",
       "      <td>Norte</td>\n",
       "      <td>AC</td>\n",
       "      <td>12</td>\n",
       "      <td>28/02/2020</td>\n",
       "      <td>9</td>\n",
       "      <td>0</td>\n",
       "      <td>0</td>\n",
       "      <td>0</td>\n",
       "      <td>0</td>\n",
       "    </tr>\n",
       "    <tr>\n",
       "      <th>4</th>\n",
       "      <td>Norte</td>\n",
       "      <td>AC</td>\n",
       "      <td>12</td>\n",
       "      <td>29/02/2020</td>\n",
       "      <td>9</td>\n",
       "      <td>0</td>\n",
       "      <td>0</td>\n",
       "      <td>0</td>\n",
       "      <td>0</td>\n",
       "    </tr>\n",
       "  </tbody>\n",
       "</table>\n",
       "</div>"
      ],
      "text/plain": [
       "  regiao estado  coduf        data  semanaEpi  casosAcumulado  casosNovos  \\\n",
       "0  Norte     AC     12  25/02/2020          9               0           0   \n",
       "1  Norte     AC     12  26/02/2020          9               0           0   \n",
       "2  Norte     AC     12  27/02/2020          9               0           0   \n",
       "3  Norte     AC     12  28/02/2020          9               0           0   \n",
       "4  Norte     AC     12  29/02/2020          9               0           0   \n",
       "\n",
       "   obitosAcumulado  obitosNovos  \n",
       "0                0            0  \n",
       "1                0            0  \n",
       "2                0            0  \n",
       "3                0            0  \n",
       "4                0            0  "
      ]
     },
     "execution_count": 161,
     "metadata": {},
     "output_type": "execute_result"
    }
   ],
   "source": [
    "# reordena registros (rows) do dataframe para que estados aparecam em ordem alfabetica:\n",
    "\n",
    "df.sort_values(by=['estado', 'semanaEpi'], inplace=True, ignore_index=True)\n",
    "\n",
    "df.head()\n"
   ]
  },
  {
   "cell_type": "code",
   "execution_count": 162,
   "metadata": {},
   "outputs": [],
   "source": [
    "# type(df)\n",
    "# df.shape\n",
    "# df.info()"
   ]
  },
  {
   "cell_type": "markdown",
   "metadata": {},
   "source": [
    "### Criacao de alguns graficos e indicadores a fim de conhecer melhor os dados da base:"
   ]
  },
  {
   "cell_type": "code",
   "execution_count": 163,
   "metadata": {},
   "outputs": [
    {
     "data": {
      "text/plain": [
       "<seaborn.axisgrid.FacetGrid at 0x7f0f160b8828>"
      ]
     },
     "execution_count": 163,
     "metadata": {},
     "output_type": "execute_result"
    },
    {
     "data": {
      "image/png": "[encoded data removed]",
      "text/plain": [
       "<Figure size 360x360 with 1 Axes>"
      ]
     },
     "metadata": {},
     "output_type": "display_data"
    }
   ],
   "source": [
    "# grafico do crescimento de novos casos de coronavirus ao longo das semanas epidemiologicas:\n",
    "\n",
    "sns.relplot(x='semanaEpi',y='casosNovos',\n",
    "            data=df, kind='line', ci=None\n",
    ")"
   ]
  },
  {
   "cell_type": "code",
   "execution_count": 164,
   "metadata": {},
   "outputs": [
    {
     "data": {
      "text/plain": [
       "<seaborn.axisgrid.FacetGrid at 0x7f0f47602860>"
      ]
     },
     "execution_count": 164,
     "metadata": {},
     "output_type": "execute_result"
    },
    {
     "data": {
      "image/png": "[encoded data removed]",
      "text/plain": [
       "<Figure size 473.6x360 with 1 Axes>"
      ]
     },
     "metadata": {},
     "output_type": "display_data"
    }
   ],
   "source": [
    "# grafico do crescimento de novos casos de coronavirus ao longo das semanas epidemiologicas:\n",
    "# por regiao\n",
    "\n",
    "sns.relplot(x='semanaEpi',y='obitosAcumulado',\n",
    "            data=df, kind='line', hue='regiao', ci=None\n",
    ")"
   ]
  },
  {
   "cell_type": "code",
   "execution_count": 165,
   "metadata": {},
   "outputs": [
    {
     "data": {
      "text/plain": [
       "<seaborn.axisgrid.FacetGrid at 0x7f0f15bc6e10>"
      ]
     },
     "execution_count": 165,
     "metadata": {},
     "output_type": "execute_result"
    },
    {
     "data": {
      "image/png": "[encoded data removed]",
      "text/plain": [
       "<Figure size 1913.6x360 with 5 Axes>"
      ]
     },
     "metadata": {},
     "output_type": "display_data"
    }
   ],
   "source": [
    "sns.relplot(x='semanaEpi',y='casosNovos',\n",
    "            data=df, kind='line', hue='regiao',\n",
    "            col='regiao', ci=None\n",
    ") # talvez seja interessante usar: col_wrap=3"
   ]
  },
  {
   "cell_type": "code",
   "execution_count": null,
   "metadata": {},
   "outputs": [],
   "source": []
  },
  {
   "cell_type": "code",
   "execution_count": null,
   "metadata": {},
   "outputs": [],
   "source": []
  },
  {
   "cell_type": "code",
   "execution_count": null,
   "metadata": {},
   "outputs": [],
   "source": []
  },
  {
   "cell_type": "code",
   "execution_count": 166,
   "metadata": {},
   "outputs": [
    {
     "data": {
      "text/plain": [
       "<matplotlib.axes._subplots.AxesSubplot at 0x7f0f15a4a908>"
      ]
     },
     "execution_count": 166,
     "metadata": {},
     "output_type": "execute_result"
    },
    {
     "data": {
      "image/png": "[encoded data removed]",
      "text/plain": [
       "<Figure size 432x288 with 1 Axes>"
      ]
     },
     "metadata": {},
     "output_type": "display_data"
    }
   ],
   "source": [
    "# sns.distplot(df.casosAcumulado)# hist=False só mostra o 'kernel density', kde=False so mostra o histograma\n",
    "\n",
    "sns.barplot(x=df.regiao, y=df.casosAcumulado, palette=\"deep\")"
   ]
  },
  {
   "cell_type": "code",
   "execution_count": 17,
   "metadata": {},
   "outputs": [],
   "source": [
    "# # limpa quaisquer configurações setadas previamente para o Seaborn:\n",
    "# sns.set()\n",
    "\n",
    "# coronavirus = df.pivot(\"estado\", \"semanaEpi\", \"obitosAcumulado\")\n",
    "\n",
    "# # Draw a heatmap with the numeric values in each cell\n",
    "# #f, ax = plt.subplots(figsize=(9, 6))\n",
    "# sns.heatmap(coronavirus, annot=True, fmt=\"d\", linewidths=.5)"
   ]
  },
  {
   "cell_type": "code",
   "execution_count": null,
   "metadata": {},
   "outputs": [],
   "source": []
  },
  {
   "cell_type": "markdown",
   "metadata": {},
   "source": [
    "### Criacao do grafo (rede) a partir dos dados:"
   ]
  },
  {
   "cell_type": "markdown",
   "metadata": {},
   "source": [
    "### Testes através da leitura de arquivos externos:"
   ]
  },
  {
   "cell_type": "code",
   "execution_count": 167,
   "metadata": {},
   "outputs": [],
   "source": [
    "\n",
    "G = nx.nx.Graph()\n",
    "G = nx.read_edgelist(\"./data/estados-brasil.txt\")"
   ]
  },
  {
   "cell_type": "code",
   "execution_count": 168,
   "metadata": {},
   "outputs": [
    {
     "data": {
      "image/png": "[encoded data removed]",
      "text/plain": [
       "<Figure size 432x288 with 1 Axes>"
      ]
     },
     "metadata": {},
     "output_type": "display_data"
    }
   ],
   "source": [
    "\n",
    "nx.draw(G, with_labels=True)"
   ]
  },
  {
   "cell_type": "markdown",
   "metadata": {},
   "source": [
    "### A seguir, alguns indicadores que podem ser obtidos a partir da chamada de métodos simples, já disponibilizados pela biblioteca NetworkX:\n",
    "+ Componentes Conexas;\n",
    "+ Caminho Mínimo;\n",
    "+ Vizinhos e Graus dos Vértices;\n",
    "+ Betweenness centrality\n",
    "+ Closeness centrality\n",
    "+ Eigenvector centrality"
   ]
  },
  {
   "cell_type": "markdown",
   "metadata": {},
   "source": [
    "#### Vizinhos e Graus dos Vértices:"
   ]
  },
  {
   "cell_type": "code",
   "execution_count": 35,
   "metadata": {},
   "outputs": [],
   "source": [
    "grau_TO = G.degree('TO')\n",
    "vizinhos_TO = G.neighbors('TO')"
   ]
  },
  {
   "cell_type": "code",
   "execution_count": 36,
   "metadata": {},
   "outputs": [
    {
     "name": "stdout",
     "output_type": "stream",
     "text": [
      "6\n",
      "['PA', 'GO', 'MT', 'MA', 'PI', 'BA']\n"
     ]
    }
   ],
   "source": [
    "print(grau_TO)\n",
    "print(list(vizinhos_TO))"
   ]
  },
  {
   "cell_type": "code",
   "execution_count": 37,
   "metadata": {},
   "outputs": [
    {
     "name": "stdout",
     "output_type": "stream",
     "text": [
      "RS 1\n",
      "SC 2\n",
      "PR 3\n",
      "SP 4\n",
      "MG 5\n",
      "RJ 3\n",
      "ES 3\n",
      "DF 1\n",
      "GO 6\n",
      "MT 5\n",
      "MS 4\n",
      "TO 6\n",
      "PA 6\n",
      "AP 1\n",
      "RR 2\n",
      "AM 4\n",
      "AC 2\n",
      "RO 3\n",
      "BA 8\n",
      "SE 2\n",
      "AL 3\n",
      "PE 5\n",
      "PI 5\n",
      "PB 3\n",
      "CE 4\n",
      "RN 2\n",
      "MA 3\n"
     ]
    }
   ],
   "source": [
    "# mostrando graus de todos os nós de forma interativa:\n",
    "for no in G:\n",
    "    print(no, G.degree(no))"
   ]
  },
  {
   "cell_type": "markdown",
   "metadata": {},
   "source": [
    "Vê-se que os estados com maior numero de compartilhamento de fronteiras são:\n",
    "1. BA ----------------> 8\n",
    "2. GO,PA,TO ------> 6\n",
    "3. MG,MT,PE,PI --> 5"
   ]
  },
  {
   "cell_type": "markdown",
   "metadata": {},
   "source": [
    "#### Betweenness centrality"
   ]
  },
  {
   "cell_type": "code",
   "execution_count": 38,
   "metadata": {},
   "outputs": [],
   "source": [
    "bet_cen = nx.betweenness_centrality(G)\n",
    "\n",
    "# Um vértice que ocorre em muitos caminhos mais\n",
    "# curtos entre outros dois vértices tem maior betweenness\n",
    "\n",
    "# bet_cen\n"
   ]
  },
  {
   "cell_type": "markdown",
   "metadata": {},
   "source": [
    "#### Closeness centrality"
   ]
  },
  {
   "cell_type": "code",
   "execution_count": 39,
   "metadata": {},
   "outputs": [],
   "source": [
    "# Proximidade\n",
    "clo_cen = nx.closeness_centrality(G)\n",
    "\n",
    "# mede a menor distância média entre um vértice  e os outros no grafo:\n",
    "# clo_cen"
   ]
  },
  {
   "cell_type": "markdown",
   "metadata": {},
   "source": [
    "#### Eigenvector centrality"
   ]
  },
  {
   "cell_type": "code",
   "execution_count": 40,
   "metadata": {},
   "outputs": [],
   "source": [
    "# autovetor: \n",
    "eig_cen = nx.eigenvector_centrality(G)\n",
    "\n",
    "# mede a importância de um vértice na rede considerando cada aresta como um voto\n",
    "# eig_cen\n"
   ]
  },
  {
   "cell_type": "code",
   "execution_count": null,
   "metadata": {},
   "outputs": [],
   "source": []
  },
  {
   "cell_type": "code",
   "execution_count": null,
   "metadata": {},
   "outputs": [],
   "source": []
  },
  {
   "cell_type": "markdown",
   "metadata": {},
   "source": [
    "### Fim dos testes através da leitura de arquivos externos;"
   ]
  },
  {
   "cell_type": "code",
   "execution_count": null,
   "metadata": {},
   "outputs": [],
   "source": []
  },
  {
   "cell_type": "code",
   "execution_count": 169,
   "metadata": {},
   "outputs": [],
   "source": [
    "# conjunto de variaveis auxiliares a serem utilizadas ao longo do código:\n",
    "\n",
    "# cria lista -- em ordem alfabetica -- de nós-estados:\n",
    "estados = df.estado.unique()\n",
    "estados = list(estados)\n",
    "\n",
    "# cria lista -- em ordem alfabetica -- de nós-regioes:\n",
    "regioes = df.regiao.unique()\n",
    "regioes = list(regioes)\n",
    "\n",
    "# cria dicionario com key=estado, value=regiao:\n",
    "dict_estados_regioes = {\n",
    "'RS':'Sul',\n",
    "'SC':'Sul',\n",
    "'PR':'Sul',\n",
    "'SP':'Sudeste',\n",
    "'MG':'Sudeste',\n",
    "'RJ':'Sudeste',\n",
    "'ES':'Sudeste',\n",
    "'DF':'Centro-Oeste',\n",
    "'GO':'Centro-Oeste',\n",
    "'MT':'Centro-Oeste',\n",
    "'MS':'Centro-Oeste',\n",
    "'TO':'Norte',\n",
    "'PA':'Norte',\n",
    "'AP':'Norte',\n",
    "'RR':'Norte',\n",
    "'AM':'Norte',\n",
    "'AC':'Norte',\n",
    "'RO':'Norte',\n",
    "'BA':'Nordeste',\n",
    "'SE':'Nordeste',\n",
    "'AL':'Nordeste',\n",
    "'PE':'Nordeste',\n",
    "'PI':'Nordeste',\n",
    "'PB':'Nordeste',\n",
    "'CE':'Nordeste',\n",
    "'RN':'Nordeste',\n",
    "'MA':'Nordeste'}"
   ]
  },
  {
   "cell_type": "code",
   "execution_count": 170,
   "metadata": {},
   "outputs": [],
   "source": [
    "# casos acumulados por estados e a soma geral desses:\n",
    "tot_casos_est      = df.groupby('estado')['casosAcumulado'].max()\n",
    "tot_casos_est_sum  = df.groupby('estado')['casosAcumulado'].max().sum()\n",
    "\n",
    "# obitos acumulados por estados e a soma geral desses:\n",
    "tot_obitos_est     = df.groupby('estado')['obitosAcumulado'].max()\n",
    "tot_obitos_est_sum = df.groupby('estado')['obitosAcumulado'].max().sum()\n",
    "\n",
    "# teste para casos por regiao x estados e a respectiva soma total:\n",
    "tot_reg            = df.groupby(['regiao', 'estado'])['casosAcumulado'].max()\n",
    "tot_reg_sum        = df.groupby(['regiao', 'estado'])['casosAcumulado'].max().sum()"
   ]
  },
  {
   "cell_type": "code",
   "execution_count": 171,
   "metadata": {},
   "outputs": [
    {
     "data": {
      "text/plain": [
       "117665"
      ]
     },
     "execution_count": 171,
     "metadata": {},
     "output_type": "execute_result"
    }
   ],
   "source": [
    "# checa total de obitos:\n",
    "tot_obitos_est_sum"
   ]
  },
  {
   "cell_type": "code",
   "execution_count": 172,
   "metadata": {},
   "outputs": [],
   "source": [
    "# necessario fazer essa conversao --- ver type(tot_casos_est)\n",
    "casos_dict = dict(tot_casos_est)\n",
    "obitos_dict = dict(tot_obitos_est)\n"
   ]
  },
  {
   "cell_type": "code",
   "execution_count": 173,
   "metadata": {},
   "outputs": [],
   "source": [
    "# instancia nós-estado com parametros iguais a todos:\n",
    "\n",
    "regiao = ''\n",
    "for e in estados:\n",
    "    G.add_node(e,\n",
    "              regiao=dict_estados_regioes.get(e),\n",
    "              total_casos = 0,\n",
    "              total_obitos = 0,\n",
    "              media_temperatura=0)"
   ]
  },
  {
   "cell_type": "code",
   "execution_count": 174,
   "metadata": {},
   "outputs": [],
   "source": [
    "# atribui casos acumulados a cada no-estado:\n",
    "\n",
    "for no in G.nodes(data=True):\n",
    "    for caso_estado in casos_list:\n",
    "        if (no[0]==caso_estado):\n",
    "            no[1]['total_casos']  = casos_dict[caso_estado]\n",
    "            no[1]['total_obitos'] = obitos_dict[caso_estado]\n",
    "     "
   ]
  },
  {
   "cell_type": "code",
   "execution_count": 175,
   "metadata": {
    "scrolled": true
   },
   "outputs": [],
   "source": [
    "color_map = []\n",
    "for no in G.nodes(data=True):\n",
    "    if (no[1]['regiao'] == 'Sul'):\n",
    "        color_map.append('purple')\n",
    "    elif(no[1]['regiao'] == 'Sudeste'): \n",
    "        color_map.append('red')\n",
    "    elif(no[1]['regiao'] == 'Centro-Oeste'): \n",
    "        color_map.append('yellow')\n",
    "    elif(no[1]['regiao'] == 'Norte'): \n",
    "        color_map.append('green')\n",
    "    else:\n",
    "        color_map.append('blue')"
   ]
  },
  {
   "cell_type": "code",
   "execution_count": 176,
   "metadata": {},
   "outputs": [
    {
     "data": {
      "image/png": "[encoded data removed]",
      "text/plain": [
       "<Figure size 432x288 with 1 Axes>"
      ]
     },
     "metadata": {},
     "output_type": "display_data"
    }
   ],
   "source": [
    "# desenha o grafo G:\n",
    "\n",
    "nx.draw(G, node_color=color_map, edge_color='purple', with_labels=True)\n"
   ]
  },
  {
   "cell_type": "code",
   "execution_count": 177,
   "metadata": {},
   "outputs": [
    {
     "name": "stdout",
     "output_type": "stream",
     "text": [
      "('RS', {'regiao': 'Sul', 'total_casos': 115984, 'total_obitos': 3235, 'media_temperatura': 0})\n",
      "('SC', {'regiao': 'Sul', 'total_casos': 137560, 'total_obitos': 2142, 'media_temperatura': 0})\n",
      "('PR', {'regiao': 'Sul', 'total_casos': 122241, 'total_obitos': 3102, 'media_temperatura': 0})\n",
      "('SP', {'regiao': 'Sudeste', 'total_casos': 776135, 'total_obitos': 29194, 'media_temperatura': 0})\n",
      "('MG', {'regiao': 'Sudeste', 'total_casos': 201973, 'total_obitos': 4948, 'media_temperatura': 0})\n",
      "('RJ', {'regiao': 'Sudeste', 'total_casos': 216675, 'total_obitos': 15700, 'media_temperatura': 0})\n",
      "('ES', {'regiao': 'Sudeste', 'total_casos': 107909, 'total_obitos': 3086, 'media_temperatura': 0})\n",
      "('DF', {'regiao': 'Centro-Oeste', 'total_casos': 155253, 'total_obitos': 2399, 'media_temperatura': 0})\n",
      "('GO', {'regiao': 'Centro-Oeste', 'total_casos': 124593, 'total_obitos': 2888, 'media_temperatura': 0})\n",
      "('MT', {'regiao': 'Centro-Oeste', 'total_casos': 85709, 'total_obitos': 2611, 'media_temperatura': 0})\n",
      "('MS', {'regiao': 'Centro-Oeste', 'total_casos': 45359, 'total_obitos': 783, 'media_temperatura': 0})\n",
      "('TO', {'regiao': 'Norte', 'total_casos': 46364, 'total_obitos': 621, 'media_temperatura': 0})\n",
      "('PA', {'regiao': 'Norte', 'total_casos': 193564, 'total_obitos': 6097, 'media_temperatura': 0})\n",
      "('AP', {'regiao': 'Norte', 'total_casos': 41981, 'total_obitos': 647, 'media_temperatura': 0})\n",
      "('RR', {'regiao': 'Norte', 'total_casos': 42359, 'total_obitos': 582, 'media_temperatura': 0})\n",
      "('AM', {'regiao': 'Norte', 'total_casos': 117412, 'total_obitos': 3600, 'media_temperatura': 0})\n",
      "('AC', {'regiao': 'Norte', 'total_casos': 24119, 'total_obitos': 607, 'media_temperatura': 0})\n",
      "('RO', {'regiao': 'Norte', 'total_casos': 53119, 'total_obitos': 1100, 'media_temperatura': 0})\n",
      "('BA', {'regiao': 'Nordeste', 'total_casos': 245021, 'total_obitos': 5116, 'media_temperatura': 0})\n",
      "('SE', {'regiao': 'Nordeste', 'total_casos': 71222, 'total_obitos': 1822, 'media_temperatura': 0})\n",
      "('AL', {'regiao': 'Nordeste', 'total_casos': 77317, 'total_obitos': 1844, 'media_temperatura': 0})\n",
      "('PE', {'regiao': 'Nordeste', 'total_casos': 121078, 'total_obitos': 7460, 'media_temperatura': 0})\n",
      "('PI', {'regiao': 'Nordeste', 'total_casos': 74096, 'total_obitos': 1754, 'media_temperatura': 0})\n",
      "('PB', {'regiao': 'Nordeste', 'total_casos': 103213, 'total_obitos': 2371, 'media_temperatura': 0})\n",
      "('CE', {'regiao': 'Nordeste', 'total_casos': 208782, 'total_obitos': 8351, 'media_temperatura': 0})\n",
      "('RN', {'regiao': 'Nordeste', 'total_casos': 60442, 'total_obitos': 2215, 'media_temperatura': 0})\n",
      "('MA', {'regiao': 'Nordeste', 'total_casos': 147676, 'total_obitos': 3390, 'media_temperatura': 0})\n"
     ]
    }
   ],
   "source": [
    "for node in G.nodes(data=True):\n",
    "    print(node)"
   ]
  },
  {
   "cell_type": "code",
   "execution_count": 86,
   "metadata": {
    "scrolled": true
   },
   "outputs": [],
   "source": [
    "# informacoes sobre o grafo atual:\n",
    "\n",
    "# nx.info(G)\n"
   ]
  },
  {
   "cell_type": "code",
   "execution_count": 178,
   "metadata": {},
   "outputs": [
    {
     "data": {
      "text/plain": [
       "{'AC': 607,\n",
       " 'AL': 1844,\n",
       " 'AM': 3600,\n",
       " 'AP': 647,\n",
       " 'BA': 5116,\n",
       " 'CE': 8351,\n",
       " 'DF': 2399,\n",
       " 'ES': 3086,\n",
       " 'GO': 2888,\n",
       " 'MA': 3390,\n",
       " 'MG': 4948,\n",
       " 'MS': 783,\n",
       " 'MT': 2611,\n",
       " 'PA': 6097,\n",
       " 'PB': 2371,\n",
       " 'PE': 7460,\n",
       " 'PI': 1754,\n",
       " 'PR': 3102,\n",
       " 'RJ': 15700,\n",
       " 'RN': 2215,\n",
       " 'RO': 1100,\n",
       " 'RR': 582,\n",
       " 'RS': 3235,\n",
       " 'SC': 2142,\n",
       " 'SE': 1822,\n",
       " 'SP': 29194,\n",
       " 'TO': 621}"
      ]
     },
     "execution_count": 178,
     "metadata": {},
     "output_type": "execute_result"
    }
   ],
   "source": [
    "obitos_dict"
   ]
  },
  {
   "cell_type": "code",
   "execution_count": 179,
   "metadata": {},
   "outputs": [
    {
     "data": {
      "text/plain": [
       "{'RS': 'Sul',\n",
       " 'SC': 'Sul',\n",
       " 'PR': 'Sul',\n",
       " 'SP': 'Sudeste',\n",
       " 'MG': 'Sudeste',\n",
       " 'RJ': 'Sudeste',\n",
       " 'ES': 'Sudeste',\n",
       " 'DF': 'Centro-Oeste',\n",
       " 'GO': 'Centro-Oeste',\n",
       " 'MT': 'Centro-Oeste',\n",
       " 'MS': 'Centro-Oeste',\n",
       " 'TO': 'Norte',\n",
       " 'PA': 'Norte',\n",
       " 'AP': 'Norte',\n",
       " 'RR': 'Norte',\n",
       " 'AM': 'Norte',\n",
       " 'AC': 'Norte',\n",
       " 'RO': 'Norte',\n",
       " 'BA': 'Nordeste',\n",
       " 'SE': 'Nordeste',\n",
       " 'AL': 'Nordeste',\n",
       " 'PE': 'Nordeste',\n",
       " 'PI': 'Nordeste',\n",
       " 'PB': 'Nordeste',\n",
       " 'CE': 'Nordeste',\n",
       " 'RN': 'Nordeste',\n",
       " 'MA': 'Nordeste'}"
      ]
     },
     "execution_count": 179,
     "metadata": {},
     "output_type": "execute_result"
    }
   ],
   "source": [
    "dict_estados_regioes"
   ]
  },
  {
   "cell_type": "code",
   "execution_count": 180,
   "metadata": {},
   "outputs": [
    {
     "name": "stdout",
     "output_type": "stream",
     "text": [
      "{'Norte': 13254, 'Nordeste': 34323, 'Centro-Oeste': 8681, 'Sudeste': 52928, 'Sul': 8479}\n"
     ]
    }
   ],
   "source": [
    "# soma casos dos estados e aribui a respectiva regiao:\n",
    "\n",
    "obitos_regiao = {}\n",
    "dict_estados_regioes\n",
    "for r in regioes:\n",
    "    soma_regiao = 0\n",
    "    for key, values in dict_estados_regioes.items():\n",
    "        if values == r:\n",
    "            soma_regiao += obitos_dict[key]\n",
    "            obitos_regiao.update({r: soma_regiao})\n",
    "        \n",
    "# suma de obitos por regiao:\n",
    "print(obitos_regiao)\n"
   ]
  },
  {
   "cell_type": "markdown",
   "metadata": {},
   "source": []
  },
  {
   "cell_type": "markdown",
   "metadata": {},
   "source": [
    "### Grafo interativo -- construído a partir do Bokeh"
   ]
  },
  {
   "cell_type": "code",
   "execution_count": 181,
   "metadata": {},
   "outputs": [
    {
     "name": "stdout",
     "output_type": "stream",
     "text": [
      "3.6.10 | packaged by conda-forge | (default, Apr 24 2020, 16:44:11) \n",
      "[GCC 7.3.0]\n",
      "2.4\n"
     ]
    }
   ],
   "source": [
    "import sys\n",
    "print(sys.version)\n",
    "print(nx.__version__)"
   ]
  },
  {
   "cell_type": "code",
   "execution_count": 182,
   "metadata": {},
   "outputs": [],
   "source": [
    "# usa bokeh para plotar o grafo:\n",
    "\n",
    "from bokeh.io import output_file, show\n",
    "# from bokeh.plotting import figure, from_networkx\n",
    "\n",
    "from bokeh.models import (BoxZoomTool, Circle, HoverTool,\n",
    "                          MultiLine, Plot, Range1d, ResetTool,\n",
    "                          TapTool,EdgesAndLinkedNodes,NodesAndLinkedEdges)\n",
    "from bokeh.palettes import Spectral4\n",
    "from bokeh.plotting import from_networkx\n"
   ]
  },
  {
   "cell_type": "code",
   "execution_count": 183,
   "metadata": {},
   "outputs": [],
   "source": [
    "SAME_CLUB_COLOR, DIFFERENT_CLUB_COLOR = \"green\", \"red\"\n",
    "edge_attrs = {}\n",
    "\n",
    "for start_node, end_node, _ in G.edges(data=True):\n",
    "    edge_color = SAME_CLUB_COLOR if G.nodes[start_node][\"regiao\"] == G.nodes[end_node][\"regiao\"] else DIFFERENT_CLUB_COLOR\n",
    "    edge_attrs[(start_node, end_node)] = edge_color\n",
    "\n",
    "\n",
    "nx.set_edge_attributes(G, edge_attrs, \"edge_color\")\n",
    "\n",
    "# Show with Bokeh\n",
    "plot = Plot(plot_width=600, plot_height=600,\n",
    "            x_range=Range1d(-1.1, 1.1), y_range=Range1d(-1.1, 1.1))\n",
    "plot.title.text = \"Covid-19 por estados, Brasil\"\n",
    "\n",
    "node_hover_tool = HoverTool(tooltips=[(\"\", \"@index\"), (\"Obitos\", \"@total_obitos\")])\n",
    "plot.add_tools(node_hover_tool, TapTool(), BoxZoomTool(), ResetTool())\n",
    "\n",
    "graph_renderer = from_networkx(G, nx.spring_layout, scale=1, center=(0, 0))\n",
    "\n",
    "graph_renderer.node_renderer.glyph = Circle(size=30, fill_color=Spectral4[0])\n",
    "graph_renderer.edge_renderer.glyph = MultiLine(line_color=\"edge_color\", line_alpha=0.8, line_width=1)\n",
    "\n",
    "plot.renderers.append(graph_renderer)\n",
    "\n",
    "output_file(\"covid19.html\")\n",
    "show(plot)"
   ]
  },
  {
   "cell_type": "markdown",
   "metadata": {},
   "source": [
    "### Teste grafo interativo número 2:"
   ]
  },
  {
   "cell_type": "code",
   "execution_count": null,
   "metadata": {},
   "outputs": [],
   "source": []
  },
  {
   "cell_type": "code",
   "execution_count": null,
   "metadata": {},
   "outputs": [],
   "source": []
  },
  {
   "cell_type": "code",
   "execution_count": null,
   "metadata": {},
   "outputs": [],
   "source": []
  },
  {
   "cell_type": "markdown",
   "metadata": {},
   "source": [
    "### Documentacao do processo - Pipeline da Produção da Rede Covid-19 - Brasil\n",
    "\n",
    "\n",
    "Obs.: Esse _pipeline_ foi desenvolvido para trabalhos na área de **Descoberta de Conhecimento**, entretanto a certo ponto os passos bem definidos podem ajudar na compreensão e tratamento dos dados e posterior obtenção e apresentação do conhecimento obtido.\n",
    "\n",
    "mais informações em: [KDD - Descoberta de Conhecimento em Bases de Dados](https://lume.ufrgs.br/handle/10183/8968)"
   ]
  },
  {
   "cell_type": "markdown",
   "metadata": {},
   "source": [
    "### 1. Entendimento do dominio da aplicação:"
   ]
  },
  {
   "cell_type": "markdown",
   "metadata": {},
   "source": [
    "Estudamos sobre Covid-19 e sobre a propagacao do virus pelo mundo"
   ]
  },
  {
   "cell_type": "markdown",
   "metadata": {},
   "source": [
    "### 2. Criação da base de dados de interesse:"
   ]
  },
  {
   "cell_type": "markdown",
   "metadata": {},
   "source": [
    "A base de dados foi criada por orgao federal e disponibilizada em:\n",
    "[Saúde.Gov](https://covid.saude.gov.br/) mais informacoes em [SUS Analítico](https://susanalitico.saude.gov.br/)"
   ]
  },
  {
   "cell_type": "markdown",
   "metadata": {},
   "source": [
    "### 3. Limpeza de dados e pré processamento:"
   ]
  },
  {
   "cell_type": "markdown",
   "metadata": {},
   "source": [
    "#### 3.a) Limpeza dos dados:"
   ]
  },
  {
   "cell_type": "markdown",
   "metadata": {},
   "source": [
    "Dividimos a base original em tres arquivos contendo: \n",
    "    1. Dados gerais do pais;\n",
    "    2. Dados regionais;\n",
    "    3. Dados estaduais e municipais;\n",
    "    \n",
    "Algumas colunas se fizeram desnecessarias, como o numero de habitantes em cada uma dessas microregioes por isso, foram descartadas da base em que trabalhamos."
   ]
  },
  {
   "cell_type": "markdown",
   "metadata": {},
   "source": [
    "#### 3.b) Integração dos dados:"
   ]
  },
  {
   "cell_type": "markdown",
   "metadata": {},
   "source": [
    "Nao houve integracao de dados novos ou externos à base já existente."
   ]
  },
  {
   "cell_type": "markdown",
   "metadata": {},
   "source": [
    "#### 3.c) Transformação dos dados:"
   ]
  },
  {
   "cell_type": "markdown",
   "metadata": {},
   "source": [
    "### 4. Redução e Projeção de Dados:"
   ]
  },
  {
   "cell_type": "markdown",
   "metadata": {},
   "source": [
    "### 5. Escolha das funções de mineração:"
   ]
  },
  {
   "cell_type": "markdown",
   "metadata": {},
   "source": [
    "### 6. Escolha dos algoritmos de mineração:"
   ]
  },
  {
   "cell_type": "markdown",
   "metadata": {},
   "source": [
    "### 7. Mineração:"
   ]
  },
  {
   "cell_type": "markdown",
   "metadata": {},
   "source": [
    "### 8. Interpretação dos dados:"
   ]
  },
  {
   "cell_type": "markdown",
   "metadata": {},
   "source": [
    "### 9. Utilização/Publicação/Compartilhamento do conhecimento descoberto:"
   ]
  },
  {
   "cell_type": "code",
   "execution_count": null,
   "metadata": {},
   "outputs": [],
   "source": []
  },
  {
   "cell_type": "code",
   "execution_count": null,
   "metadata": {},
   "outputs": [],
   "source": []
  }
 ],
 "metadata": {
  "kernelspec": {
   "display_name": "Python 3",
   "language": "python",
   "name": "python3"
  },
  "language_info": {
   "codemirror_mode": {
    "name": "ipython",
    "version": 3
   },
   "file_extension": ".py",
   "mimetype": "text/x-python",
   "name": "python",
   "nbconvert_exporter": "python",
   "pygments_lexer": "ipython3",
   "version": "3.6.10"
  }
 },
 "nbformat": 4,
 "nbformat_minor": 4
}
