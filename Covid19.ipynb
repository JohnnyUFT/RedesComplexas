{
 "cells": [
  {
   "cell_type": "markdown",
   "metadata": {},
   "source": [
    "# Covid-19 - Brasil\n",
    "## Redes Complexas - 2020/1\n",
    "Alunos: Johnny Gomes\n",
    "        e o Nomeriano Neto"
   ]
  },
  {
   "cell_type": "code",
   "execution_count": 1,
   "metadata": {},
   "outputs": [],
   "source": [
    "import pandas as pd\n",
    "import networkx as nx\n",
    "from matplotlib import pyplot as plt\n",
    "%matplotlib inline\n",
    "import seaborn as sns"
   ]
  },
  {
   "cell_type": "markdown",
   "metadata": {},
   "source": [
    "### Entendimento dos dados a partir de graficos e outros indicadores "
   ]
  },
  {
   "cell_type": "code",
   "execution_count": 2,
   "metadata": {},
   "outputs": [],
   "source": [
    "from bokeh.plotting import figure, output_file, show"
   ]
  },
  {
   "cell_type": "code",
   "execution_count": 3,
   "metadata": {},
   "outputs": [
    {
     "name": "stdout",
     "output_type": "stream",
     "text": [
      "2.4\n"
     ]
    }
   ],
   "source": [
    "print(nx.__version__)"
   ]
  },
  {
   "cell_type": "code",
   "execution_count": 4,
   "metadata": {
    "scrolled": true
   },
   "outputs": [
    {
     "data": {
      "text/html": [
       "<div>\n",
       "<style scoped>\n",
       "    .dataframe tbody tr th:only-of-type {\n",
       "        vertical-align: middle;\n",
       "    }\n",
       "\n",
       "    .dataframe tbody tr th {\n",
       "        vertical-align: top;\n",
       "    }\n",
       "\n",
       "    .dataframe thead th {\n",
       "        text-align: right;\n",
       "    }\n",
       "</style>\n",
       "<table border=\"1\" class=\"dataframe\">\n",
       "  <thead>\n",
       "    <tr style=\"text-align: right;\">\n",
       "      <th></th>\n",
       "      <th>regiao</th>\n",
       "      <th>estado</th>\n",
       "      <th>coduf</th>\n",
       "      <th>data</th>\n",
       "      <th>semanaEpi</th>\n",
       "      <th>casosAcumulado</th>\n",
       "      <th>casosNovos</th>\n",
       "      <th>obitosAcumulado</th>\n",
       "      <th>obitosNovos</th>\n",
       "    </tr>\n",
       "  </thead>\n",
       "  <tbody>\n",
       "    <tr>\n",
       "      <th>706</th>\n",
       "      <td>Nordeste</td>\n",
       "      <td>PI</td>\n",
       "      <td>22</td>\n",
       "      <td>12/05/20</td>\n",
       "      <td>20</td>\n",
       "      <td>1443</td>\n",
       "      <td>111</td>\n",
       "      <td>49</td>\n",
       "      <td>4</td>\n",
       "    </tr>\n",
       "    <tr>\n",
       "      <th>1813</th>\n",
       "      <td>Sul</td>\n",
       "      <td>PR</td>\n",
       "      <td>41</td>\n",
       "      <td>25/05/20</td>\n",
       "      <td>22</td>\n",
       "      <td>3331</td>\n",
       "      <td>119</td>\n",
       "      <td>156</td>\n",
       "      <td>3</td>\n",
       "    </tr>\n",
       "    <tr>\n",
       "      <th>2277</th>\n",
       "      <td>Centro-Oeste</td>\n",
       "      <td>DF</td>\n",
       "      <td>53</td>\n",
       "      <td>23/03/20</td>\n",
       "      <td>13</td>\n",
       "      <td>133</td>\n",
       "      <td>16</td>\n",
       "      <td>0</td>\n",
       "      <td>0</td>\n",
       "    </tr>\n",
       "    <tr>\n",
       "      <th>145</th>\n",
       "      <td>Norte</td>\n",
       "      <td>AC</td>\n",
       "      <td>12</td>\n",
       "      <td>22/05/20</td>\n",
       "      <td>21</td>\n",
       "      <td>3343</td>\n",
       "      <td>240</td>\n",
       "      <td>80</td>\n",
       "      <td>2</td>\n",
       "    </tr>\n",
       "    <tr>\n",
       "      <th>1468</th>\n",
       "      <td>Sudeste</td>\n",
       "      <td>ES</td>\n",
       "      <td>32</td>\n",
       "      <td>30/03/20</td>\n",
       "      <td>14</td>\n",
       "      <td>72</td>\n",
       "      <td>12</td>\n",
       "      <td>0</td>\n",
       "      <td>0</td>\n",
       "    </tr>\n",
       "  </tbody>\n",
       "</table>\n",
       "</div>"
      ],
      "text/plain": [
       "            regiao estado  coduf      data  semanaEpi  casosAcumulado  \\\n",
       "706       Nordeste     PI     22  12/05/20         20            1443   \n",
       "1813           Sul     PR     41  25/05/20         22            3331   \n",
       "2277  Centro-Oeste     DF     53  23/03/20         13             133   \n",
       "145          Norte     AC     12  22/05/20         21            3343   \n",
       "1468       Sudeste     ES     32  30/03/20         14              72   \n",
       "\n",
       "      casosNovos  obitosAcumulado  obitosNovos  \n",
       "706          111               49            4  \n",
       "1813         119              156            3  \n",
       "2277          16                0            0  \n",
       "145          240               80            2  \n",
       "1468          12                0            0  "
      ]
     },
     "execution_count": 4,
     "metadata": {},
     "output_type": "execute_result"
    }
   ],
   "source": [
    "# lê info regionais - divididos por estados, inclusive\n",
    "df = pd.read_csv(\"./data/covid_regioes.csv\")\n",
    "df.sample(5)"
   ]
  },
  {
   "cell_type": "code",
   "execution_count": 10,
   "metadata": {},
   "outputs": [],
   "source": [
    "# le dados a partir do pandas dataframe:\n",
    "G = nx.from_pandas_edgelist(df, source='regiao', target='estado')\n"
   ]
  },
  {
   "cell_type": "code",
   "execution_count": 11,
   "metadata": {},
   "outputs": [
    {
     "data": {
      "image/png": "[encoded data removed]",
      "text/plain": [
       "<Figure size 432x288 with 1 Axes>"
      ]
     },
     "metadata": {},
     "output_type": "display_data"
    }
   ],
   "source": [
    "nx.draw(G, with_labels=True)"
   ]
  },
  {
   "cell_type": "code",
   "execution_count": 12,
   "metadata": {},
   "outputs": [],
   "source": [
    "# 1 - pegar total de casos de cada estado dinamicamente:\n"
   ]
  },
  {
   "cell_type": "code",
   "execution_count": 21,
   "metadata": {},
   "outputs": [],
   "source": [
    "# atribui cor e diametro diferenciado para nos-regioes:\n",
    "G.add_node('Norte', dim= 'regiao',\n",
    "                    totalCasos = 0,\n",
    "                    totalMortes = 0)\n",
    "G.add_node('Nordeste', dim= 'regiao',\n",
    "                    totalCasos = 0,\n",
    "                    totalMortes = 0)\n",
    "G.add_node('Centro-Oeste', dim= 'regiao',\n",
    "                    totalCasos = 0,\n",
    "                    totalMortes = 0)\n",
    "G.add_node('Sudeste', dim= 'regiao',\n",
    "                    totalCasos = 0,\n",
    "                    totalMortes = 0)\n",
    "G.add_node('Sul', dim= 'regiao',\n",
    "                    totalCasos = 0,\n",
    "                    totalMortes = 0)"
   ]
  },
  {
   "cell_type": "code",
   "execution_count": 22,
   "metadata": {},
   "outputs": [
    {
     "data": {
      "text/plain": [
       "NodeDataView({'Norte': {'dim': 'regiao', 'totalCasos': 0, 'totalMortes': 0}, 'RO': {}, 'AC': {}, 'AM': {}, 'RR': {}, 'PA': {}, 'AP': {}, 'TO': {}, 'Nordeste': {'dim': 'regiao', 'totalCasos': 0, 'totalMortes': 0}, 'MA': {}, 'PI': {}, 'CE': {}, 'RN': {}, 'PB': {}, 'PE': {}, 'AL': {}, 'SE': {}, 'BA': {}, 'Sudeste': {'dim': 'regiao', 'totalCasos': 0, 'totalMortes': 0}, 'MG': {}, 'ES': {}, 'RJ': {}, 'SP': {}, 'Sul': {'dim': 'regiao', 'totalCasos': 0, 'totalMortes': 0}, 'PR': {}, 'SC': {}, 'RS': {}, 'Centro-Oeste': {'dim': 'regiao', 'totalCasos': 0, 'totalMortes': 0}, 'MS': {}, 'MT': {}, 'GO': {}, 'DF': {}})"
      ]
     },
     "execution_count": 22,
     "metadata": {},
     "output_type": "execute_result"
    }
   ],
   "source": [
    "# 2 - cria grafo a partir da distribuicao geografica das regioes:\n",
    "G.add_edges_from(\n",
    "    [('Norte', 'Nordeste'), ('Norte', 'Centro-Oeste'), ('Nordeste', 'Centro-Oeste'), ('Nordeste', 'Sudeste'),\n",
    "     ('Centro-Oeste', 'Sudeste'),('Centro-Oeste', 'Sul'), ('Sudeste', 'Sul')])\n",
    "\n",
    "#G.nodes(data=True)"
   ]
  },
  {
   "cell_type": "code",
   "execution_count": 58,
   "metadata": {
    "scrolled": true
   },
   "outputs": [
    {
     "ename": "KeyError",
     "evalue": "'dim'",
     "output_type": "error",
     "traceback": [
      "\u001b[0;31m---------------------------------------------------------------------------\u001b[0m",
      "\u001b[0;31mKeyError\u001b[0m                                  Traceback (most recent call last)",
      "\u001b[0;32m<ipython-input-58-a28f2e16c3ed>\u001b[0m in \u001b[0;36m<module>\u001b[0;34m\u001b[0m\n\u001b[1;32m      1\u001b[0m \u001b[0mcolor_map\u001b[0m \u001b[0;34m=\u001b[0m \u001b[0;34m[\u001b[0m\u001b[0;34m]\u001b[0m\u001b[0;34m\u001b[0m\u001b[0;34m\u001b[0m\u001b[0m\n\u001b[1;32m      2\u001b[0m \u001b[0;32mfor\u001b[0m \u001b[0mnode\u001b[0m \u001b[0;32min\u001b[0m \u001b[0mG\u001b[0m\u001b[0;34m.\u001b[0m\u001b[0mnodes\u001b[0m\u001b[0;34m(\u001b[0m\u001b[0mdata\u001b[0m\u001b[0;34m=\u001b[0m\u001b[0;32mTrue\u001b[0m\u001b[0;34m)\u001b[0m\u001b[0;34m:\u001b[0m\u001b[0;34m\u001b[0m\u001b[0;34m\u001b[0m\u001b[0m\n\u001b[0;32m----> 3\u001b[0;31m     \u001b[0;32mif\u001b[0m \u001b[0;34m(\u001b[0m\u001b[0mnode\u001b[0m\u001b[0;34m[\u001b[0m\u001b[0;36m1\u001b[0m\u001b[0;34m]\u001b[0m\u001b[0;34m[\u001b[0m\u001b[0;34m'dim'\u001b[0m\u001b[0;34m]\u001b[0m\u001b[0;34m)\u001b[0m\u001b[0;34m:\u001b[0m\u001b[0;34m\u001b[0m\u001b[0;34m\u001b[0m\u001b[0m\n\u001b[0m\u001b[1;32m      4\u001b[0m \u001b[0;31m#         print(node[1][1])\u001b[0m\u001b[0;34m\u001b[0m\u001b[0;34m\u001b[0m\u001b[0;34m\u001b[0m\u001b[0m\n\u001b[1;32m      5\u001b[0m         \u001b[0mcolor_map\u001b[0m\u001b[0;34m.\u001b[0m\u001b[0mappend\u001b[0m\u001b[0;34m(\u001b[0m\u001b[0;34m'blue'\u001b[0m\u001b[0;34m)\u001b[0m\u001b[0;34m\u001b[0m\u001b[0;34m\u001b[0m\u001b[0m\n",
      "\u001b[0;31mKeyError\u001b[0m: 'dim'"
     ]
    }
   ],
   "source": [
    "color_map = []\n",
    "for node in G.nodes(data=True):\n",
    "    if (node[1]):\n",
    "#         print(node[1][1])\n",
    "        color_map.append('blue')\n",
    "    else: \n",
    "        color_map.append('green')\n",
    "\n",
    "        "
   ]
  },
  {
   "cell_type": "code",
   "execution_count": null,
   "metadata": {},
   "outputs": [],
   "source": []
  },
  {
   "cell_type": "code",
   "execution_count": 56,
   "metadata": {
    "scrolled": true
   },
   "outputs": [
    {
     "data": {
      "image/png": "[encoded data removed]",
      "text/plain": [
       "<Figure size 432x288 with 1 Axes>"
      ]
     },
     "metadata": {},
     "output_type": "display_data"
    }
   ],
   "source": [
    "# 2.2.1 - ver a estrutura do grafo:\n",
    "nx.draw(G, node_color=color_map, node_size=1000, with_labels=True)"
   ]
  },
  {
   "cell_type": "code",
   "execution_count": null,
   "metadata": {},
   "outputs": [],
   "source": [
    "# 3 - atribuir numero de casos/mortes a cada nó-estado:\n"
   ]
  },
  {
   "cell_type": "code",
   "execution_count": null,
   "metadata": {},
   "outputs": [],
   "source": [
    "# 4 - somar valores dos nós-estado e atribuir a sua respectiva regiao:\n"
   ]
  },
  {
   "cell_type": "code",
   "execution_count": null,
   "metadata": {},
   "outputs": [],
   "source": [
    "# 5 - O diametro do nó é relativo ao numero de casos (usar interpolador entre o menor e maior numero):\n"
   ]
  },
  {
   "cell_type": "code",
   "execution_count": null,
   "metadata": {},
   "outputs": [],
   "source": [
    "# 6 - animar o grafo e adicionar 'hover' com informacoes de numero de casos/mortes e/ou outras:\n"
   ]
  },
  {
   "cell_type": "code",
   "execution_count": null,
   "metadata": {},
   "outputs": [],
   "source": [
    "# grafico do crescimento de novos casos ao longos das semanas (estado == 'TO')\n",
    "sns.relplot(x=\"semanaEpi\", y=\"casosNovos\",\n",
    "            sizes=(60, 600), alpha=.5, size='casosAcumulado', palette=\"muted\",\n",
    "            height=6, data=casos_TO)"
   ]
  },
  {
   "cell_type": "code",
   "execution_count": null,
   "metadata": {},
   "outputs": [],
   "source": [
    "# grafico do crescimento de novos casos ao longos das semanas (estado == 'AM')\n",
    "sns.relplot(x=\"semanaEpi\", y=\"casosNovos\",\n",
    "            sizes=(60, 600), alpha=.5, size='casosNovos', palette=\"muted\",\n",
    "            height=6, data=casos_AM)"
   ]
  },
  {
   "cell_type": "code",
   "execution_count": null,
   "metadata": {},
   "outputs": [],
   "source": [
    "# pega total de casos acumulados no Tocantins:\n",
    "casos_TO.casosAcumulado[-1:]"
   ]
  },
  {
   "cell_type": "code",
   "execution_count": null,
   "metadata": {},
   "outputs": [],
   "source": [
    "casos_TO.data"
   ]
  },
  {
   "cell_type": "code",
   "execution_count": null,
   "metadata": {},
   "outputs": [],
   "source": []
  },
  {
   "cell_type": "markdown",
   "metadata": {},
   "source": [
    "### Documentacao do processo - Pipeline da Produção da Rede Covid-19 - Brasil\n",
    "\n",
    "\n",
    "Obs.: Esse _pipeline_ foi desenvolvido para trabalhos na área de **Descoberta de Conhecimento**, entretanto a certo ponto os passos bem definidos podem ajudar na compreensão e tratamento dos dados e posterior obtenção e apresentação do conhecimento obtido.\n",
    "\n",
    "mais informações em: [KDD - Descoberta de Conhecimento em Bases de Dados](https://lume.ufrgs.br/handle/10183/8968)"
   ]
  },
  {
   "cell_type": "markdown",
   "metadata": {},
   "source": [
    "### 1. Entendimento do dominio da aplicação:"
   ]
  },
  {
   "cell_type": "markdown",
   "metadata": {},
   "source": [
    "Estudamos sobre Covid-19 e sobre a propagacao do virus pelo mundo"
   ]
  },
  {
   "cell_type": "markdown",
   "metadata": {},
   "source": [
    "### 2. Criação da base de dados de interesse:"
   ]
  },
  {
   "cell_type": "markdown",
   "metadata": {},
   "source": [
    "A base de dados foi criada por orgao federal e disponibilizada em:\n",
    "[Saúde.Gov](https://covid.saude.gov.br/) mais informacoes em [SUS Analítico](https://susanalitico.saude.gov.br/)"
   ]
  },
  {
   "cell_type": "markdown",
   "metadata": {},
   "source": [
    "### 3. Limpeza de dados e pré processamento:"
   ]
  },
  {
   "cell_type": "markdown",
   "metadata": {},
   "source": [
    "#### 3.a) Limpeza dos dados:"
   ]
  },
  {
   "cell_type": "markdown",
   "metadata": {},
   "source": [
    "Dividimos a base original em tres arquivos contendo: \n",
    "    1. Dados gerais do pais;\n",
    "    2. Dados regionais;\n",
    "    3. Dados estaduais e municipais;\n",
    "    \n",
    "Algumas colunas se fizeram desnecessarias, como o numero de habitantes em cada uma dessas microregioes por isso, foram descartadas da base em que trabalhamos."
   ]
  },
  {
   "cell_type": "markdown",
   "metadata": {},
   "source": [
    "#### 3.b) Integração dos dados:"
   ]
  },
  {
   "cell_type": "markdown",
   "metadata": {},
   "source": [
    "Nao houve integracao de dados novos ou externos à base já existente."
   ]
  },
  {
   "cell_type": "markdown",
   "metadata": {},
   "source": [
    "#### 3.c) Transformação dos dados:"
   ]
  },
  {
   "cell_type": "markdown",
   "metadata": {},
   "source": [
    "### 4. Redução e Projeção de Dados:"
   ]
  },
  {
   "cell_type": "markdown",
   "metadata": {},
   "source": [
    "### 5. Escolha das funções de mineração:"
   ]
  },
  {
   "cell_type": "markdown",
   "metadata": {},
   "source": [
    "### 6. Escolha dos algoritmos de mineração:"
   ]
  },
  {
   "cell_type": "markdown",
   "metadata": {},
   "source": [
    "### 7. Mineração:"
   ]
  },
  {
   "cell_type": "markdown",
   "metadata": {},
   "source": [
    "### 8. Interpretação dos dados:"
   ]
  },
  {
   "cell_type": "markdown",
   "metadata": {},
   "source": [
    "### 9. Utilização/Publicação/Compartilhamento do conhecimento descoberto:"
   ]
  }
 ],
 "metadata": {
  "kernelspec": {
   "display_name": "Python 3",
   "language": "python",
   "name": "python3"
  },
  "language_info": {
   "codemirror_mode": {
    "name": "ipython",
    "version": 3
   },
   "file_extension": ".py",
   "mimetype": "text/x-python",
   "name": "python",
   "nbconvert_exporter": "python",
   "pygments_lexer": "ipython3",
   "version": "3.6.10"
  }
 },
 "nbformat": 4,
 "nbformat_minor": 4
}
