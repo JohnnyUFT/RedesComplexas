{
 "cells": [
  {
   "cell_type": "markdown",
   "metadata": {},
   "source": [
    "# Covid-19 - Brasil\n",
    "## Redes Complexas - 2020/1\n",
    "Alunos: \n",
    "1. Johnny Gomes\n",
    "2. Nomeriano Neto\n",
    "3. Reinaldo Ribeiro"
   ]
  },
  {
   "cell_type": "code",
   "execution_count": 1,
   "metadata": {},
   "outputs": [],
   "source": [
    "import pandas as pd\n",
    "import networkx as nx\n",
    "from matplotlib import pyplot as plt\n",
    "%matplotlib inline\n",
    "import seaborn as sns"
   ]
  },
  {
   "cell_type": "markdown",
   "metadata": {},
   "source": [
    "### Entendimento dos dados a partir de graficos e outros indicadores "
   ]
  },
  {
   "cell_type": "code",
   "execution_count": 2,
   "metadata": {},
   "outputs": [
    {
     "data": {
      "text/html": [
       "<div>\n",
       "<style scoped>\n",
       "    .dataframe tbody tr th:only-of-type {\n",
       "        vertical-align: middle;\n",
       "    }\n",
       "\n",
       "    .dataframe tbody tr th {\n",
       "        vertical-align: top;\n",
       "    }\n",
       "\n",
       "    .dataframe thead th {\n",
       "        text-align: right;\n",
       "    }\n",
       "</style>\n",
       "<table border=\"1\" class=\"dataframe\">\n",
       "  <thead>\n",
       "    <tr style=\"text-align: right;\">\n",
       "      <th></th>\n",
       "      <th>regiao</th>\n",
       "      <th>estado</th>\n",
       "      <th>coduf</th>\n",
       "      <th>data</th>\n",
       "      <th>semanaEpi</th>\n",
       "      <th>casosAcumulado</th>\n",
       "      <th>casosNovos</th>\n",
       "      <th>obitosAcumulado</th>\n",
       "      <th>obitosNovos</th>\n",
       "    </tr>\n",
       "  </thead>\n",
       "  <tbody>\n",
       "    <tr>\n",
       "      <th>352</th>\n",
       "      <td>Norte</td>\n",
       "      <td>PA</td>\n",
       "      <td>15</td>\n",
       "      <td>12/04/20</td>\n",
       "      <td>16</td>\n",
       "      <td>246</td>\n",
       "      <td>29</td>\n",
       "      <td>13</td>\n",
       "      <td>3</td>\n",
       "    </tr>\n",
       "    <tr>\n",
       "      <th>236</th>\n",
       "      <td>Norte</td>\n",
       "      <td>AM</td>\n",
       "      <td>13</td>\n",
       "      <td>27/05/20</td>\n",
       "      <td>22</td>\n",
       "      <td>33508</td>\n",
       "      <td>1559</td>\n",
       "      <td>1891</td>\n",
       "      <td>39</td>\n",
       "    </tr>\n",
       "    <tr>\n",
       "      <th>1198</th>\n",
       "      <td>Nordeste</td>\n",
       "      <td>SE</td>\n",
       "      <td>28</td>\n",
       "      <td>12/04/20</td>\n",
       "      <td>16</td>\n",
       "      <td>44</td>\n",
       "      <td>2</td>\n",
       "      <td>4</td>\n",
       "      <td>0</td>\n",
       "    </tr>\n",
       "    <tr>\n",
       "      <th>2176</th>\n",
       "      <td>Centro-Oeste</td>\n",
       "      <td>GO</td>\n",
       "      <td>52</td>\n",
       "      <td>16/03/20</td>\n",
       "      <td>12</td>\n",
       "      <td>3</td>\n",
       "      <td>0</td>\n",
       "      <td>0</td>\n",
       "      <td>0</td>\n",
       "    </tr>\n",
       "    <tr>\n",
       "      <th>2052</th>\n",
       "      <td>Centro-Oeste</td>\n",
       "      <td>MS</td>\n",
       "      <td>50</td>\n",
       "      <td>30/04/20</td>\n",
       "      <td>18</td>\n",
       "      <td>255</td>\n",
       "      <td>6</td>\n",
       "      <td>9</td>\n",
       "      <td>0</td>\n",
       "    </tr>\n",
       "  </tbody>\n",
       "</table>\n",
       "</div>"
      ],
      "text/plain": [
       "            regiao estado  coduf      data  semanaEpi  casosAcumulado  \\\n",
       "352          Norte     PA     15  12/04/20         16             246   \n",
       "236          Norte     AM     13  27/05/20         22           33508   \n",
       "1198      Nordeste     SE     28  12/04/20         16              44   \n",
       "2176  Centro-Oeste     GO     52  16/03/20         12               3   \n",
       "2052  Centro-Oeste     MS     50  30/04/20         18             255   \n",
       "\n",
       "      casosNovos  obitosAcumulado  obitosNovos  \n",
       "352           29               13            3  \n",
       "236         1559             1891           39  \n",
       "1198           2                4            0  \n",
       "2176           0                0            0  \n",
       "2052           6                9            0  "
      ]
     },
     "execution_count": 2,
     "metadata": {},
     "output_type": "execute_result"
    }
   ],
   "source": [
    "# lê info regionais - divididos por estados, inclusive\n",
    "\n",
    "df = pd.read_csv(\"./data/covid_regioes.csv\")\n",
    "df.sample(5)\n"
   ]
  },
  {
   "cell_type": "code",
   "execution_count": 3,
   "metadata": {},
   "outputs": [
    {
     "data": {
      "text/plain": [
       "pandas.core.frame.DataFrame"
      ]
     },
     "execution_count": 3,
     "metadata": {},
     "output_type": "execute_result"
    }
   ],
   "source": [
    "type(df)"
   ]
  },
  {
   "cell_type": "code",
   "execution_count": 4,
   "metadata": {},
   "outputs": [
    {
     "data": {
      "text/html": [
       "<div>\n",
       "<style scoped>\n",
       "    .dataframe tbody tr th:only-of-type {\n",
       "        vertical-align: middle;\n",
       "    }\n",
       "\n",
       "    .dataframe tbody tr th {\n",
       "        vertical-align: top;\n",
       "    }\n",
       "\n",
       "    .dataframe thead th {\n",
       "        text-align: right;\n",
       "    }\n",
       "</style>\n",
       "<table border=\"1\" class=\"dataframe\">\n",
       "  <thead>\n",
       "    <tr style=\"text-align: right;\">\n",
       "      <th></th>\n",
       "      <th>regiao</th>\n",
       "      <th>estado</th>\n",
       "      <th>coduf</th>\n",
       "      <th>data</th>\n",
       "      <th>semanaEpi</th>\n",
       "      <th>casosAcumulado</th>\n",
       "      <th>casosNovos</th>\n",
       "      <th>obitosAcumulado</th>\n",
       "      <th>obitosNovos</th>\n",
       "    </tr>\n",
       "  </thead>\n",
       "  <tbody>\n",
       "    <tr>\n",
       "      <th>0</th>\n",
       "      <td>Norte</td>\n",
       "      <td>AC</td>\n",
       "      <td>12</td>\n",
       "      <td>19/03/20</td>\n",
       "      <td>12</td>\n",
       "      <td>3</td>\n",
       "      <td>3</td>\n",
       "      <td>0</td>\n",
       "      <td>0</td>\n",
       "    </tr>\n",
       "    <tr>\n",
       "      <th>1</th>\n",
       "      <td>Norte</td>\n",
       "      <td>AC</td>\n",
       "      <td>12</td>\n",
       "      <td>20/03/20</td>\n",
       "      <td>12</td>\n",
       "      <td>7</td>\n",
       "      <td>4</td>\n",
       "      <td>0</td>\n",
       "      <td>0</td>\n",
       "    </tr>\n",
       "    <tr>\n",
       "      <th>2</th>\n",
       "      <td>Norte</td>\n",
       "      <td>AC</td>\n",
       "      <td>12</td>\n",
       "      <td>21/03/20</td>\n",
       "      <td>12</td>\n",
       "      <td>9</td>\n",
       "      <td>2</td>\n",
       "      <td>0</td>\n",
       "      <td>0</td>\n",
       "    </tr>\n",
       "    <tr>\n",
       "      <th>3</th>\n",
       "      <td>Norte</td>\n",
       "      <td>AC</td>\n",
       "      <td>12</td>\n",
       "      <td>22/03/20</td>\n",
       "      <td>13</td>\n",
       "      <td>11</td>\n",
       "      <td>2</td>\n",
       "      <td>0</td>\n",
       "      <td>0</td>\n",
       "    </tr>\n",
       "    <tr>\n",
       "      <th>4</th>\n",
       "      <td>Norte</td>\n",
       "      <td>AC</td>\n",
       "      <td>12</td>\n",
       "      <td>23/03/20</td>\n",
       "      <td>13</td>\n",
       "      <td>11</td>\n",
       "      <td>0</td>\n",
       "      <td>0</td>\n",
       "      <td>0</td>\n",
       "    </tr>\n",
       "  </tbody>\n",
       "</table>\n",
       "</div>"
      ],
      "text/plain": [
       "  regiao estado  coduf      data  semanaEpi  casosAcumulado  casosNovos  \\\n",
       "0  Norte     AC     12  19/03/20         12               3           3   \n",
       "1  Norte     AC     12  20/03/20         12               7           4   \n",
       "2  Norte     AC     12  21/03/20         12               9           2   \n",
       "3  Norte     AC     12  22/03/20         13              11           2   \n",
       "4  Norte     AC     12  23/03/20         13              11           0   \n",
       "\n",
       "   obitosAcumulado  obitosNovos  \n",
       "0                0            0  \n",
       "1                0            0  \n",
       "2                0            0  \n",
       "3                0            0  \n",
       "4                0            0  "
      ]
     },
     "execution_count": 4,
     "metadata": {},
     "output_type": "execute_result"
    }
   ],
   "source": [
    "# reordena registros (rows) do dataframe para que estados aparecam em ordem alfabetica:\n",
    "\n",
    "df.sort_values(by=['estado', 'semanaEpi'], inplace=True, ignore_index=True)\n",
    "\n",
    "df.head()\n"
   ]
  },
  {
   "cell_type": "code",
   "execution_count": 5,
   "metadata": {},
   "outputs": [
    {
     "data": {
      "text/plain": [
       "(2355, 9)"
      ]
     },
     "execution_count": 5,
     "metadata": {},
     "output_type": "execute_result"
    }
   ],
   "source": [
    "\n",
    "df.shape\n"
   ]
  },
  {
   "cell_type": "code",
   "execution_count": 7,
   "metadata": {},
   "outputs": [],
   "source": [
    "\n",
    "# df.info()\n"
   ]
  },
  {
   "cell_type": "code",
   "execution_count": 8,
   "metadata": {},
   "outputs": [],
   "source": [
    "# le dados a partir do pandas dataframe:\n",
    "\n",
    "# G = nx.from_pandas_edgelist(df, source='pais', target='regiao')\n",
    "G = nx.from_pandas_edgelist(df, source='regiao', target='estado')\n"
   ]
  },
  {
   "cell_type": "code",
   "execution_count": 10,
   "metadata": {
    "scrolled": true
   },
   "outputs": [
    {
     "data": {
      "image/png": "[encoded data removed]",
      "text/plain": [
       "<Figure size 432x288 with 1 Axes>"
      ]
     },
     "metadata": {},
     "output_type": "display_data"
    }
   ],
   "source": [
    "\n",
    "nx.draw(G, with_labels=True)\n"
   ]
  },
  {
   "cell_type": "code",
   "execution_count": 9,
   "metadata": {},
   "outputs": [],
   "source": [
    "# cria lista -- em ordem alfabetica -- de nós-estados:\n",
    "estados = df.estado.unique()\n",
    "estados = list(estados)\n",
    "\n",
    "# cria lista -- em ordem alfabetica -- de nós-regioes:\n",
    "regioes = df.regiao.unique()\n",
    "regioes = list(regioes)\n"
   ]
  },
  {
   "cell_type": "code",
   "execution_count": 10,
   "metadata": {},
   "outputs": [],
   "source": [
    "# instancia nós-estado com parametros iguais a todos:\n",
    "for e in estados:\n",
    "    G.add_node(e,\n",
    "              dim='estado',\n",
    "              totalCasos = 0,\n",
    "              totalMortes = 0,\n",
    "              temperatura=0)\n",
    "\n",
    "for r in regioes:\n",
    "    G.add_node(r,\n",
    "              dim='regiao',\n",
    "              totalCasos = 0,\n",
    "              totalMortes = 0,\n",
    "              temperatura=0)"
   ]
  },
  {
   "cell_type": "code",
   "execution_count": 11,
   "metadata": {
    "scrolled": true
   },
   "outputs": [],
   "source": [
    "color_map = []\n",
    "for no in G.nodes(data=True):\n",
    "    if (no[1]['dim'] == 'regiao'):\n",
    "        color_map.append('green')\n",
    "    else: \n",
    "        color_map.append('blue')"
   ]
  },
  {
   "cell_type": "code",
   "execution_count": 12,
   "metadata": {},
   "outputs": [
    {
     "data": {
      "image/png": "[encoded data removed]",
      "text/plain": [
       "<Figure size 432x288 with 1 Axes>"
      ]
     },
     "metadata": {},
     "output_type": "display_data"
    }
   ],
   "source": [
    "# desenha o grafo G:\n",
    "\n",
    "nx.draw(G, node_color=color_map, edge_color='purple', with_labels=True)\n"
   ]
  },
  {
   "cell_type": "code",
   "execution_count": 13,
   "metadata": {},
   "outputs": [
    {
     "name": "stdout",
     "output_type": "stream",
     "text": [
      "('Norte', {'dim': 'regiao', 'totalCasos': 0, 'totalMortes': 0, 'temperatura': 0})\n",
      "('AC', {'dim': 'estado', 'totalCasos': 0, 'totalMortes': 0, 'temperatura': 0})\n",
      "('Nordeste', {'dim': 'regiao', 'totalCasos': 0, 'totalMortes': 0, 'temperatura': 0})\n",
      "('AL', {'dim': 'estado', 'totalCasos': 0, 'totalMortes': 0, 'temperatura': 0})\n",
      "('AM', {'dim': 'estado', 'totalCasos': 0, 'totalMortes': 0, 'temperatura': 0})\n",
      "('AP', {'dim': 'estado', 'totalCasos': 0, 'totalMortes': 0, 'temperatura': 0})\n",
      "('BA', {'dim': 'estado', 'totalCasos': 0, 'totalMortes': 0, 'temperatura': 0})\n",
      "('CE', {'dim': 'estado', 'totalCasos': 0, 'totalMortes': 0, 'temperatura': 0})\n",
      "('Centro-Oeste', {'dim': 'regiao', 'totalCasos': 0, 'totalMortes': 0, 'temperatura': 0})\n",
      "('DF', {'dim': 'estado', 'totalCasos': 0, 'totalMortes': 0, 'temperatura': 0})\n",
      "('Sudeste', {'dim': 'regiao', 'totalCasos': 0, 'totalMortes': 0, 'temperatura': 0})\n",
      "('ES', {'dim': 'estado', 'totalCasos': 0, 'totalMortes': 0, 'temperatura': 0})\n",
      "('GO', {'dim': 'estado', 'totalCasos': 0, 'totalMortes': 0, 'temperatura': 0})\n",
      "('MA', {'dim': 'estado', 'totalCasos': 0, 'totalMortes': 0, 'temperatura': 0})\n",
      "('MG', {'dim': 'estado', 'totalCasos': 0, 'totalMortes': 0, 'temperatura': 0})\n",
      "('MS', {'dim': 'estado', 'totalCasos': 0, 'totalMortes': 0, 'temperatura': 0})\n",
      "('MT', {'dim': 'estado', 'totalCasos': 0, 'totalMortes': 0, 'temperatura': 0})\n",
      "('PA', {'dim': 'estado', 'totalCasos': 0, 'totalMortes': 0, 'temperatura': 0})\n",
      "('PB', {'dim': 'estado', 'totalCasos': 0, 'totalMortes': 0, 'temperatura': 0})\n",
      "('PE', {'dim': 'estado', 'totalCasos': 0, 'totalMortes': 0, 'temperatura': 0})\n",
      "('PI', {'dim': 'estado', 'totalCasos': 0, 'totalMortes': 0, 'temperatura': 0})\n",
      "('Sul', {'dim': 'regiao', 'totalCasos': 0, 'totalMortes': 0, 'temperatura': 0})\n",
      "('PR', {'dim': 'estado', 'totalCasos': 0, 'totalMortes': 0, 'temperatura': 0})\n",
      "('RJ', {'dim': 'estado', 'totalCasos': 0, 'totalMortes': 0, 'temperatura': 0})\n",
      "('RN', {'dim': 'estado', 'totalCasos': 0, 'totalMortes': 0, 'temperatura': 0})\n",
      "('RO', {'dim': 'estado', 'totalCasos': 0, 'totalMortes': 0, 'temperatura': 0})\n",
      "('RR', {'dim': 'estado', 'totalCasos': 0, 'totalMortes': 0, 'temperatura': 0})\n",
      "('RS', {'dim': 'estado', 'totalCasos': 0, 'totalMortes': 0, 'temperatura': 0})\n",
      "('SC', {'dim': 'estado', 'totalCasos': 0, 'totalMortes': 0, 'temperatura': 0})\n",
      "('SE', {'dim': 'estado', 'totalCasos': 0, 'totalMortes': 0, 'temperatura': 0})\n",
      "('SP', {'dim': 'estado', 'totalCasos': 0, 'totalMortes': 0, 'temperatura': 0})\n",
      "('TO', {'dim': 'estado', 'totalCasos': 0, 'totalMortes': 0, 'temperatura': 0})\n"
     ]
    }
   ],
   "source": [
    "for node in G.nodes(data=True):\n",
    "    print(node)"
   ]
  },
  {
   "cell_type": "code",
   "execution_count": 14,
   "metadata": {
    "scrolled": true
   },
   "outputs": [
    {
     "data": {
      "text/plain": [
       "'Name: \\nType: Graph\\nNumber of nodes: 32\\nNumber of edges: 27\\nAverage degree:   1.6875'"
      ]
     },
     "execution_count": 14,
     "metadata": {},
     "output_type": "execute_result"
    }
   ],
   "source": [
    "# informacoes sobre o grafo atual:\n",
    "\n",
    "nx.info(G)\n"
   ]
  },
  {
   "cell_type": "code",
   "execution_count": 15,
   "metadata": {},
   "outputs": [
    {
     "data": {
      "text/html": [
       "<div>\n",
       "<style scoped>\n",
       "    .dataframe tbody tr th:only-of-type {\n",
       "        vertical-align: middle;\n",
       "    }\n",
       "\n",
       "    .dataframe tbody tr th {\n",
       "        vertical-align: top;\n",
       "    }\n",
       "\n",
       "    .dataframe thead th {\n",
       "        text-align: right;\n",
       "    }\n",
       "</style>\n",
       "<table border=\"1\" class=\"dataframe\">\n",
       "  <thead>\n",
       "    <tr style=\"text-align: right;\">\n",
       "      <th></th>\n",
       "      <th>regiao</th>\n",
       "      <th>estado</th>\n",
       "      <th>coduf</th>\n",
       "      <th>data</th>\n",
       "      <th>semanaEpi</th>\n",
       "      <th>casosAcumulado</th>\n",
       "      <th>casosNovos</th>\n",
       "      <th>obitosAcumulado</th>\n",
       "      <th>obitosNovos</th>\n",
       "    </tr>\n",
       "  </thead>\n",
       "  <tbody>\n",
       "    <tr>\n",
       "      <th>2331</th>\n",
       "      <td>Norte</td>\n",
       "      <td>TO</td>\n",
       "      <td>17</td>\n",
       "      <td>16/05/20</td>\n",
       "      <td>20</td>\n",
       "      <td>1279</td>\n",
       "      <td>100</td>\n",
       "      <td>27</td>\n",
       "      <td>3</td>\n",
       "    </tr>\n",
       "    <tr>\n",
       "      <th>2009</th>\n",
       "      <td>Sul</td>\n",
       "      <td>SC</td>\n",
       "      <td>42</td>\n",
       "      <td>27/03/20</td>\n",
       "      <td>13</td>\n",
       "      <td>149</td>\n",
       "      <td>27</td>\n",
       "      <td>1</td>\n",
       "      <td>0</td>\n",
       "    </tr>\n",
       "    <tr>\n",
       "      <th>2325</th>\n",
       "      <td>Norte</td>\n",
       "      <td>TO</td>\n",
       "      <td>17</td>\n",
       "      <td>10/05/20</td>\n",
       "      <td>20</td>\n",
       "      <td>688</td>\n",
       "      <td>116</td>\n",
       "      <td>11</td>\n",
       "      <td>2</td>\n",
       "    </tr>\n",
       "    <tr>\n",
       "      <th>2277</th>\n",
       "      <td>Norte</td>\n",
       "      <td>TO</td>\n",
       "      <td>17</td>\n",
       "      <td>23/03/20</td>\n",
       "      <td>13</td>\n",
       "      <td>5</td>\n",
       "      <td>3</td>\n",
       "      <td>0</td>\n",
       "      <td>0</td>\n",
       "    </tr>\n",
       "    <tr>\n",
       "      <th>175</th>\n",
       "      <td>Norte</td>\n",
       "      <td>AM</td>\n",
       "      <td>13</td>\n",
       "      <td>15/03/20</td>\n",
       "      <td>12</td>\n",
       "      <td>1</td>\n",
       "      <td>1</td>\n",
       "      <td>0</td>\n",
       "      <td>0</td>\n",
       "    </tr>\n",
       "  </tbody>\n",
       "</table>\n",
       "</div>"
      ],
      "text/plain": [
       "     regiao estado  coduf      data  semanaEpi  casosAcumulado  casosNovos  \\\n",
       "2331  Norte     TO     17  16/05/20         20            1279         100   \n",
       "2009    Sul     SC     42  27/03/20         13             149          27   \n",
       "2325  Norte     TO     17  10/05/20         20             688         116   \n",
       "2277  Norte     TO     17  23/03/20         13               5           3   \n",
       "175   Norte     AM     13  15/03/20         12               1           1   \n",
       "\n",
       "      obitosAcumulado  obitosNovos  \n",
       "2331               27            3  \n",
       "2009                1            0  \n",
       "2325               11            2  \n",
       "2277                0            0  \n",
       "175                 0            0  "
      ]
     },
     "execution_count": 15,
     "metadata": {},
     "output_type": "execute_result"
    }
   ],
   "source": [
    "df.sample(5)"
   ]
  },
  {
   "cell_type": "code",
   "execution_count": 16,
   "metadata": {},
   "outputs": [
    {
     "name": "stdout",
     "output_type": "stream",
     "text": [
      "['AC', 'AL', 'AM', 'AP', 'BA', 'CE', 'DF', 'ES', 'GO', 'MA', 'MG', 'MS', 'MT', 'PA', 'PB', 'PE', 'PI', 'PR', 'RJ', 'RN', 'RO', 'RR', 'RS', 'SC', 'SE', 'SP', 'TO'] ['Norte', 'Nordeste', 'Centro-Oeste', 'Sudeste', 'Sul']\n"
     ]
    }
   ],
   "source": [
    "# definidos/instanciados anteriormente no inicio do notebook:\n",
    "\n",
    "print(estados, regioes)\n"
   ]
  },
  {
   "cell_type": "code",
   "execution_count": 17,
   "metadata": {},
   "outputs": [],
   "source": [
    "# aqui apenas para matar a curiosidade quanto a estrutura alternativa do dataframe:\n",
    "# total = df.groupby(['regiao','estado'])\n",
    "# total.first()"
   ]
  },
  {
   "cell_type": "code",
   "execution_count": 18,
   "metadata": {},
   "outputs": [],
   "source": [
    "\n",
    "tot_est     = df.groupby('estado')['casosAcumulado'].max()\n",
    "tot_est_sum = df.groupby('estado')['casosAcumulado'].max().sum()\n",
    "\n",
    "tot_reg     = df.groupby(['regiao', 'estado'])['casosAcumulado'].max()\n",
    "tot_reg_sum = df.groupby(['regiao', 'estado'])['casosAcumulado'].max().sum()"
   ]
  },
  {
   "cell_type": "code",
   "execution_count": 19,
   "metadata": {
    "scrolled": true
   },
   "outputs": [
    {
     "data": {
      "text/plain": [
       "numpy.int64"
      ]
     },
     "execution_count": 19,
     "metadata": {},
     "output_type": "execute_result"
    }
   ],
   "source": [
    "# print(tot_reg)\n",
    "type(tot_reg_sum)"
   ]
  },
  {
   "cell_type": "code",
   "execution_count": 20,
   "metadata": {},
   "outputs": [
    {
     "data": {
      "text/plain": [
       "{'AC': 8128,\n",
       " 'AL': 15706,\n",
       " 'AM': 49811,\n",
       " 'AP': 13294,\n",
       " 'BA': 28715,\n",
       " 'CE': 65605,\n",
       " 'DF': 16629,\n",
       " 'ES': 20659,\n",
       " 'GO': 6124,\n",
       " 'MA': 49371,\n",
       " 'MG': 15883,\n",
       " 'MS': 2324,\n",
       " 'MT': 4100,\n",
       " 'PA': 56032,\n",
       " 'PB': 20951,\n",
       " 'PE': 40705,\n",
       " 'PI': 7621,\n",
       " 'PR': 7031,\n",
       " 'RJ': 69499,\n",
       " 'RN': 10888,\n",
       " 'RO': 8626,\n",
       " 'RR': 5768,\n",
       " 'RS': 12250,\n",
       " 'SC': 11565,\n",
       " 'SE': 9727,\n",
       " 'SP': 144593,\n",
       " 'TO': 5807}"
      ]
     },
     "execution_count": 20,
     "metadata": {},
     "output_type": "execute_result"
    }
   ],
   "source": [
    "est_list = dict(tot_est)\n",
    "est_list"
   ]
  },
  {
   "cell_type": "code",
   "execution_count": 21,
   "metadata": {},
   "outputs": [],
   "source": [
    "# atribui casos acumulados a cada no-estado:\n",
    "\n",
    "for no in G.nodes(data=True):\n",
    "    if (no[1]['dim'] == 'estado'):\n",
    "#         print(no)\n",
    "        for caso_estado in est_list:\n",
    "            if (no[0]==caso_estado):\n",
    "                no[1]['totalCasos'] = est_list[caso_estado]\n",
    "#                 print(no[0], '->', caso_estado)\n",
    "     "
   ]
  },
  {
   "cell_type": "code",
   "execution_count": 22,
   "metadata": {
    "scrolled": true
   },
   "outputs": [
    {
     "name": "stdout",
     "output_type": "stream",
     "text": [
      "('AC', {'dim': 'estado', 'totalCasos': 8128, 'totalMortes': 0, 'temperatura': 0})\n",
      "('AL', {'dim': 'estado', 'totalCasos': 15706, 'totalMortes': 0, 'temperatura': 0})\n",
      "('AM', {'dim': 'estado', 'totalCasos': 49811, 'totalMortes': 0, 'temperatura': 0})\n",
      "('AP', {'dim': 'estado', 'totalCasos': 13294, 'totalMortes': 0, 'temperatura': 0})\n",
      "('BA', {'dim': 'estado', 'totalCasos': 28715, 'totalMortes': 0, 'temperatura': 0})\n",
      "('CE', {'dim': 'estado', 'totalCasos': 65605, 'totalMortes': 0, 'temperatura': 0})\n",
      "('DF', {'dim': 'estado', 'totalCasos': 16629, 'totalMortes': 0, 'temperatura': 0})\n",
      "('ES', {'dim': 'estado', 'totalCasos': 20659, 'totalMortes': 0, 'temperatura': 0})\n",
      "('GO', {'dim': 'estado', 'totalCasos': 6124, 'totalMortes': 0, 'temperatura': 0})\n",
      "('MA', {'dim': 'estado', 'totalCasos': 49371, 'totalMortes': 0, 'temperatura': 0})\n",
      "('MG', {'dim': 'estado', 'totalCasos': 15883, 'totalMortes': 0, 'temperatura': 0})\n",
      "('MS', {'dim': 'estado', 'totalCasos': 2324, 'totalMortes': 0, 'temperatura': 0})\n",
      "('MT', {'dim': 'estado', 'totalCasos': 4100, 'totalMortes': 0, 'temperatura': 0})\n",
      "('PA', {'dim': 'estado', 'totalCasos': 56032, 'totalMortes': 0, 'temperatura': 0})\n",
      "('PB', {'dim': 'estado', 'totalCasos': 20951, 'totalMortes': 0, 'temperatura': 0})\n",
      "('PE', {'dim': 'estado', 'totalCasos': 40705, 'totalMortes': 0, 'temperatura': 0})\n",
      "('PI', {'dim': 'estado', 'totalCasos': 7621, 'totalMortes': 0, 'temperatura': 0})\n",
      "('PR', {'dim': 'estado', 'totalCasos': 7031, 'totalMortes': 0, 'temperatura': 0})\n",
      "('RJ', {'dim': 'estado', 'totalCasos': 69499, 'totalMortes': 0, 'temperatura': 0})\n",
      "('RN', {'dim': 'estado', 'totalCasos': 10888, 'totalMortes': 0, 'temperatura': 0})\n",
      "('RO', {'dim': 'estado', 'totalCasos': 8626, 'totalMortes': 0, 'temperatura': 0})\n",
      "('RR', {'dim': 'estado', 'totalCasos': 5768, 'totalMortes': 0, 'temperatura': 0})\n",
      "('RS', {'dim': 'estado', 'totalCasos': 12250, 'totalMortes': 0, 'temperatura': 0})\n",
      "('SC', {'dim': 'estado', 'totalCasos': 11565, 'totalMortes': 0, 'temperatura': 0})\n",
      "('SE', {'dim': 'estado', 'totalCasos': 9727, 'totalMortes': 0, 'temperatura': 0})\n",
      "('SP', {'dim': 'estado', 'totalCasos': 144593, 'totalMortes': 0, 'temperatura': 0})\n",
      "('TO', {'dim': 'estado', 'totalCasos': 5807, 'totalMortes': 0, 'temperatura': 0})\n"
     ]
    }
   ],
   "source": [
    "# just for fun:\n",
    "\n",
    "for no in G.nodes(data=True):\n",
    "    if (no[1]['dim'] == 'estado'):\n",
    "        print(no)\n"
   ]
  },
  {
   "cell_type": "code",
   "execution_count": 23,
   "metadata": {},
   "outputs": [
    {
     "name": "stdout",
     "output_type": "stream",
     "text": [
      "{'Norte': 147466, 'Nordeste': 249289, 'Centro-Oeste': 29177, 'Sudeste': 250634, 'Sul': 30846}\n"
     ]
    }
   ],
   "source": [
    "# soma casos dos estados e aribui a respectiva regiao:\n",
    "\n",
    "casos_regiao = {}\n",
    "for regiao in regioes:\n",
    "    # encontra vizinhos (conectados) ao no-regiao\n",
    "    est = G.neighbors(regiao)\n",
    "    estados_da_regiao = list(est)\n",
    "    sum_casos_regiao = 0\n",
    "    for est in estados_da_regiao:\n",
    "        sum_casos_regiao += G.nodes[est]['totalCasos']\n",
    "        # cria dicionario dinamicamente:\n",
    "        casos_regiao[regiao] = sum_casos_regiao\n",
    "\n",
    "# sum_casos_regiao\n",
    "print(casos_regiao)\n"
   ]
  },
  {
   "cell_type": "code",
   "execution_count": 24,
   "metadata": {},
   "outputs": [],
   "source": [
    "# atribui total de casos aos nos-regioes:\n",
    "\n",
    "for regiao in regioes:\n",
    "    G.nodes[regiao]['totalCasos'] = casos_regiao[regiao]"
   ]
  },
  {
   "cell_type": "code",
   "execution_count": 25,
   "metadata": {},
   "outputs": [
    {
     "name": "stdout",
     "output_type": "stream",
     "text": [
      "('Norte', {'dim': 'regiao', 'totalCasos': 147466, 'totalMortes': 0, 'temperatura': 0})\n",
      "('AC', {'dim': 'estado', 'totalCasos': 8128, 'totalMortes': 0, 'temperatura': 0})\n",
      "('Nordeste', {'dim': 'regiao', 'totalCasos': 249289, 'totalMortes': 0, 'temperatura': 0})\n",
      "('AL', {'dim': 'estado', 'totalCasos': 15706, 'totalMortes': 0, 'temperatura': 0})\n",
      "('AM', {'dim': 'estado', 'totalCasos': 49811, 'totalMortes': 0, 'temperatura': 0})\n",
      "('AP', {'dim': 'estado', 'totalCasos': 13294, 'totalMortes': 0, 'temperatura': 0})\n",
      "('BA', {'dim': 'estado', 'totalCasos': 28715, 'totalMortes': 0, 'temperatura': 0})\n",
      "('CE', {'dim': 'estado', 'totalCasos': 65605, 'totalMortes': 0, 'temperatura': 0})\n",
      "('Centro-Oeste', {'dim': 'regiao', 'totalCasos': 29177, 'totalMortes': 0, 'temperatura': 0})\n",
      "('DF', {'dim': 'estado', 'totalCasos': 16629, 'totalMortes': 0, 'temperatura': 0})\n",
      "('Sudeste', {'dim': 'regiao', 'totalCasos': 250634, 'totalMortes': 0, 'temperatura': 0})\n",
      "('ES', {'dim': 'estado', 'totalCasos': 20659, 'totalMortes': 0, 'temperatura': 0})\n",
      "('GO', {'dim': 'estado', 'totalCasos': 6124, 'totalMortes': 0, 'temperatura': 0})\n",
      "('MA', {'dim': 'estado', 'totalCasos': 49371, 'totalMortes': 0, 'temperatura': 0})\n",
      "('MG', {'dim': 'estado', 'totalCasos': 15883, 'totalMortes': 0, 'temperatura': 0})\n",
      "('MS', {'dim': 'estado', 'totalCasos': 2324, 'totalMortes': 0, 'temperatura': 0})\n",
      "('MT', {'dim': 'estado', 'totalCasos': 4100, 'totalMortes': 0, 'temperatura': 0})\n",
      "('PA', {'dim': 'estado', 'totalCasos': 56032, 'totalMortes': 0, 'temperatura': 0})\n",
      "('PB', {'dim': 'estado', 'totalCasos': 20951, 'totalMortes': 0, 'temperatura': 0})\n",
      "('PE', {'dim': 'estado', 'totalCasos': 40705, 'totalMortes': 0, 'temperatura': 0})\n",
      "('PI', {'dim': 'estado', 'totalCasos': 7621, 'totalMortes': 0, 'temperatura': 0})\n",
      "('Sul', {'dim': 'regiao', 'totalCasos': 30846, 'totalMortes': 0, 'temperatura': 0})\n",
      "('PR', {'dim': 'estado', 'totalCasos': 7031, 'totalMortes': 0, 'temperatura': 0})\n",
      "('RJ', {'dim': 'estado', 'totalCasos': 69499, 'totalMortes': 0, 'temperatura': 0})\n",
      "('RN', {'dim': 'estado', 'totalCasos': 10888, 'totalMortes': 0, 'temperatura': 0})\n",
      "('RO', {'dim': 'estado', 'totalCasos': 8626, 'totalMortes': 0, 'temperatura': 0})\n",
      "('RR', {'dim': 'estado', 'totalCasos': 5768, 'totalMortes': 0, 'temperatura': 0})\n",
      "('RS', {'dim': 'estado', 'totalCasos': 12250, 'totalMortes': 0, 'temperatura': 0})\n",
      "('SC', {'dim': 'estado', 'totalCasos': 11565, 'totalMortes': 0, 'temperatura': 0})\n",
      "('SE', {'dim': 'estado', 'totalCasos': 9727, 'totalMortes': 0, 'temperatura': 0})\n",
      "('SP', {'dim': 'estado', 'totalCasos': 144593, 'totalMortes': 0, 'temperatura': 0})\n",
      "('TO', {'dim': 'estado', 'totalCasos': 5807, 'totalMortes': 0, 'temperatura': 0})\n"
     ]
    }
   ],
   "source": [
    "for no in G.nodes(data=True):\n",
    "    print(no)"
   ]
  },
  {
   "cell_type": "code",
   "execution_count": 26,
   "metadata": {},
   "outputs": [],
   "source": [
    "# ---------------------------------------------------------------- #\n",
    "#             CRIAR ARESTAS QUE FALTAM AO GRAFO:\n",
    "# ---------------------------------------------------------------- #"
   ]
  },
  {
   "cell_type": "code",
   "execution_count": 27,
   "metadata": {},
   "outputs": [],
   "source": [
    "# 1 - cria arestas a partir da distribuicao geografica das regioes:\n",
    "\n",
    "G.add_edges_from(\n",
    "    [('Norte', 'Nordeste'), ('Norte', 'Centro-Oeste'), ('Nordeste', 'Centro-Oeste'), ('Nordeste', 'Sudeste'),\n",
    "     ('Centro-Oeste', 'Sudeste'),('Centro-Oeste', 'Sul'), ('Sudeste', 'Sul')])\n"
   ]
  },
  {
   "cell_type": "code",
   "execution_count": 28,
   "metadata": {},
   "outputs": [
    {
     "data": {
      "image/png": "[encoded data removed]",
      "text/plain": [
       "<Figure size 432x288 with 1 Axes>"
      ]
     },
     "metadata": {},
     "output_type": "display_data"
    }
   ],
   "source": [
    "nx.draw(G, node_color=color_map, edge_color='purple', node_size=600, with_labels=True)\n",
    "plt.savefig('estrutura.png', dpi=300, bbox_inches='tight')\n",
    "plt.show()"
   ]
  },
  {
   "cell_type": "code",
   "execution_count": 36,
   "metadata": {},
   "outputs": [],
   "source": [
    "# cria arestas a partir da disposicao geografica entre nos-estados por regiao:\n",
    "\n",
    "# 1. Regiao Sul:\n",
    "G.add_edges_from(\n",
    "    [('RS', 'SC'),('SC', 'PR')]) # ok\n",
    "\n",
    "# 2. Sudeste:\n",
    "G.add_edges_from(\n",
    "    [('SP', 'MG'), ('SP', 'RJ'), ('RJ', 'MG'),('RJ', 'ES'),('ES', 'MG')]) # ok\n",
    "\n",
    "# 3. Centro-Oeste:\n",
    "G.add_edges_from(\n",
    "    [('DF', 'GO'), ('GO', 'MT'),('GO', 'MS'),('MT','MS')]) # ok\n",
    "\n",
    "# 4. Norte:\n",
    "G.add_edges_from(\n",
    "    [('TO', 'PA'),('PA', 'AP'),('PA', 'RR'),('PA', 'AM'),('AM', 'AC'),\n",
    "     ('AM', 'RO'),('AM','RR'),('AC', 'RO')]) # ok\n",
    "\n",
    "# 5. Nordeste:\n",
    "G.add_edges_from(\n",
    "    [('BA', 'SE'), ('BA', 'AL'),('BA', 'PE'),('BA', 'PI'),('PE', 'PB'),\n",
    "     ('PE', 'CE'),('PE', 'PI'),('CE', 'PI'),('CE', 'PB'),('SE','AL'),\n",
    "     ('AL','PE'),('CE', 'RN'),('PB', 'RN'),('PI','MA')]) # ok\n"
   ]
  },
  {
   "cell_type": "code",
   "execution_count": 37,
   "metadata": {},
   "outputs": [],
   "source": [
    "# mapeia as arestas extra-regionais:\n",
    "\n",
    "G.add_edges_from(\n",
    "    [('PR', 'SP'),('PR', 'MS'),('ES', 'BA'),('MG', 'BA'),('SP', 'MS'),('MG', 'GO'),\n",
    "     ('TO', 'GO'),('TO', 'MT'),('TO', 'MA'),('TO','PI'),('TO','BA'),\n",
    "     ('GO','BA'),('PA','MA'),('PA','MT'),('RO','MT')])\n"
   ]
  },
  {
   "cell_type": "code",
   "execution_count": 38,
   "metadata": {
    "scrolled": true
   },
   "outputs": [
    {
     "data": {
      "image/png": "[encoded data removed]",
      "text/plain": [
       "<Figure size 432x288 with 1 Axes>"
      ]
     },
     "metadata": {},
     "output_type": "display_data"
    }
   ],
   "source": [
    "# desenha o grafo em sua estrutura final em relacao vertices a arestas:\n",
    "\n",
    "nx.draw(G, node_color=color_map, edge_color='purple', node_size=500, with_labels=True)\n",
    "plt.savefig('fronteiras_estados-regioes.png', dpi=300, bbox_inches='tight')\n",
    "plt.show()\n"
   ]
  },
  {
   "cell_type": "code",
   "execution_count": 39,
   "metadata": {},
   "outputs": [
    {
     "name": "stdout",
     "output_type": "stream",
     "text": [
      "3.6.10 | packaged by conda-forge | (default, Apr 24 2020, 16:44:11) \n",
      "[GCC 7.3.0]\n",
      "2.4\n"
     ]
    }
   ],
   "source": [
    "import sys\n",
    "print(sys.version)\n",
    "print(nx.__version__)"
   ]
  },
  {
   "cell_type": "code",
   "execution_count": 43,
   "metadata": {},
   "outputs": [],
   "source": [
    "# usa bokeh para plotar o grafo:\n",
    "\n",
    "from bokeh.io import output_file, show\n",
    "# from bokeh.plotting import figure, from_networkx\n",
    "\n",
    "from bokeh.models import (BoxZoomTool, Circle, HoverTool,\n",
    "                          MultiLine, Plot, Range1d, ResetTool,\n",
    "                          TapTool,EdgesAndLinkedNodes,NodesAndLinkedEdges)\n",
    "from bokeh.palettes import Spectral4\n",
    "from bokeh.plotting import from_networkx\n"
   ]
  },
  {
   "cell_type": "code",
   "execution_count": 44,
   "metadata": {},
   "outputs": [],
   "source": [
    "SAME_CLUB_COLOR, DIFFERENT_CLUB_COLOR = \"black\", \"red\"\n",
    "edge_attrs = {}\n",
    "\n",
    "for start_node, end_node, _ in G.edges(data=True):\n",
    "    edge_color = SAME_CLUB_COLOR if G.nodes[start_node][\"dim\"] == G.nodes[end_node][\"dim\"] else DIFFERENT_CLUB_COLOR\n",
    "    edge_attrs[(start_node, end_node)] = edge_color\n",
    "\n",
    "nx.set_edge_attributes(G, edge_attrs, \"edge_color\")\n",
    "\n",
    "# Show with Bokeh\n",
    "plot = Plot(plot_width=600, plot_height=600,\n",
    "            x_range=Range1d(-1.1, 1.1), y_range=Range1d(-1.1, 1.1))\n",
    "plot.title.text = \"Covid-19 Estados/Regioes/Brasil\"\n",
    "\n",
    "node_hover_tool = HoverTool(tooltips=[(\"\", \"@index\"), (\"Casos\", \"@totalCasos\")])\n",
    "plot.add_tools(node_hover_tool, TapTool(), BoxZoomTool(), ResetTool())\n",
    "\n",
    "graph_renderer = from_networkx(G, nx.spring_layout, scale=1, center=(0, 0))\n",
    "\n",
    "graph_renderer.node_renderer.glyph = Circle(size=30, fill_color=Spectral4[0])\n",
    "graph_renderer.edge_renderer.glyph = MultiLine(line_color=\"edge_color\", line_alpha=0.8, line_width=1)\n",
    "\n",
    "plot.renderers.append(graph_renderer)\n",
    "\n",
    "output_file(\"covid19.html\")\n",
    "show(plot)"
   ]
  },
  {
   "cell_type": "code",
   "execution_count": 40,
   "metadata": {},
   "outputs": [],
   "source": [
    "# import networkx as nx\n",
    "\n",
    "# from bokeh.io import output_file, show\n",
    "# from bokeh.models import (BoxSelectTool, Circle, HoverTool,\n",
    "#                           MultiLine, NodesAndLinkedEdges, Plot, Range1d, TapTool,)\n",
    "# from bokeh.palettes import Spectral4\n",
    "# from bokeh.plotting import from_networkx"
   ]
  },
  {
   "cell_type": "code",
   "execution_count": 45,
   "metadata": {},
   "outputs": [],
   "source": [
    "# # colore o grafo de acordo com tipo do no (estado ou regiao)\n",
    "# ESTADO, REGIAO = \"blue\", \"green\"\n",
    "# node_cor = {}\n",
    "# node_dia = {}\n",
    "\n",
    "# for vertice in G.nodes(data=True):\n",
    "#     node_dia[vertice[0]] = vertice[1]['totalCasos']\n",
    "#     node_color = ESTADO if vertice[1]['dim'] == 'estado' else REGIAO\n",
    "#     node_cor[vertice[0]] = node_color\n",
    "    \n",
    "\n",
    "# print(node_cor)\n",
    "# print(node_dia)\n",
    "# isinstance(node_cor, dict)\n"
   ]
  },
  {
   "cell_type": "code",
   "execution_count": 46,
   "metadata": {},
   "outputs": [],
   "source": [
    "\n",
    "\n",
    "# # set node attributes\n",
    "# nx.set_node_attributes(G, 'node_color', node_cor)\n",
    "# nx.set_node_attributes(G, 'node_size', node_dia)\n",
    "\n",
    "\n",
    "# plot = Plot(plot_width=600, plot_height=600,\n",
    "#             x_range=Range1d(-1.1,1.1), y_range=Range1d(-1.1,1.1))\n",
    "# plot.title.text = \"Covid-19 Brasil\"\n",
    "\n",
    "# node_hover_tool = HoverTool(tooltips=[(\"\", \"@index\"), (\"Casos\", \"@totalCasos\")])\n",
    "# plot.add_tools(node_hover_tool, TapTool(), BoxZoomTool(), ResetTool(),TapTool(), BoxSelectTool())\n",
    "\n",
    "# graph_renderer = from_networkx(G, nx.spring_layout, scale=1, center=(0,0))\n",
    "\n",
    "# graph_renderer.node_renderer.glyph = Circle(size=15, fill_color=Spectral4[0])\n",
    "# graph_renderer.node_renderer.selection_glyph = Circle(size=15, fill_color=Spectral4[2])\n",
    "# graph_renderer.node_renderer.hover_glyph = Circle(size=15, fill_color=Spectral4[1])\n",
    "\n",
    "# graph_renderer.edge_renderer.glyph = MultiLine(line_color=\"#CCCCCC\", line_alpha=0.8, line_width=2)\n",
    "# graph_renderer.edge_renderer.selection_glyph = MultiLine(line_color=Spectral4[2], line_width=2)\n",
    "# graph_renderer.edge_renderer.hover_glyph = MultiLine(line_color=Spectral4[1], line_width=2)\n",
    "\n",
    "# graph_renderer.selection_policy = NodesAndLinkedEdges()\n",
    "\n",
    "# plot.renderers.append(graph_renderer)\n",
    "\n",
    "# output_file(\"covid19-Brasil.html\")\n",
    "# show(plot)"
   ]
  },
  {
   "cell_type": "code",
   "execution_count": null,
   "metadata": {},
   "outputs": [],
   "source": []
  },
  {
   "cell_type": "markdown",
   "metadata": {},
   "source": [
    "### Documentacao do processo - Pipeline da Produção da Rede Covid-19 - Brasil\n",
    "\n",
    "\n",
    "Obs.: Esse _pipeline_ foi desenvolvido para trabalhos na área de **Descoberta de Conhecimento**, entretanto a certo ponto os passos bem definidos podem ajudar na compreensão e tratamento dos dados e posterior obtenção e apresentação do conhecimento obtido.\n",
    "\n",
    "mais informações em: [KDD - Descoberta de Conhecimento em Bases de Dados](https://lume.ufrgs.br/handle/10183/8968)"
   ]
  },
  {
   "cell_type": "markdown",
   "metadata": {},
   "source": [
    "### 1. Entendimento do dominio da aplicação:"
   ]
  },
  {
   "cell_type": "markdown",
   "metadata": {},
   "source": [
    "Estudamos sobre Covid-19 e sobre a propagacao do virus pelo mundo"
   ]
  },
  {
   "cell_type": "markdown",
   "metadata": {},
   "source": [
    "### 2. Criação da base de dados de interesse:"
   ]
  },
  {
   "cell_type": "markdown",
   "metadata": {},
   "source": [
    "A base de dados foi criada por orgao federal e disponibilizada em:\n",
    "[Saúde.Gov](https://covid.saude.gov.br/) mais informacoes em [SUS Analítico](https://susanalitico.saude.gov.br/)"
   ]
  },
  {
   "cell_type": "markdown",
   "metadata": {},
   "source": [
    "### 3. Limpeza de dados e pré processamento:"
   ]
  },
  {
   "cell_type": "markdown",
   "metadata": {},
   "source": [
    "#### 3.a) Limpeza dos dados:"
   ]
  },
  {
   "cell_type": "markdown",
   "metadata": {},
   "source": [
    "Dividimos a base original em tres arquivos contendo: \n",
    "    1. Dados gerais do pais;\n",
    "    2. Dados regionais;\n",
    "    3. Dados estaduais e municipais;\n",
    "    \n",
    "Algumas colunas se fizeram desnecessarias, como o numero de habitantes em cada uma dessas microregioes por isso, foram descartadas da base em que trabalhamos."
   ]
  },
  {
   "cell_type": "markdown",
   "metadata": {},
   "source": [
    "#### 3.b) Integração dos dados:"
   ]
  },
  {
   "cell_type": "markdown",
   "metadata": {},
   "source": [
    "Nao houve integracao de dados novos ou externos à base já existente."
   ]
  },
  {
   "cell_type": "markdown",
   "metadata": {},
   "source": [
    "#### 3.c) Transformação dos dados:"
   ]
  },
  {
   "cell_type": "markdown",
   "metadata": {},
   "source": [
    "### 4. Redução e Projeção de Dados:"
   ]
  },
  {
   "cell_type": "markdown",
   "metadata": {},
   "source": [
    "### 5. Escolha das funções de mineração:"
   ]
  },
  {
   "cell_type": "markdown",
   "metadata": {},
   "source": [
    "### 6. Escolha dos algoritmos de mineração:"
   ]
  },
  {
   "cell_type": "markdown",
   "metadata": {},
   "source": [
    "### 7. Mineração:"
   ]
  },
  {
   "cell_type": "markdown",
   "metadata": {},
   "source": [
    "### 8. Interpretação dos dados:"
   ]
  },
  {
   "cell_type": "markdown",
   "metadata": {},
   "source": [
    "### 9. Utilização/Publicação/Compartilhamento do conhecimento descoberto:"
   ]
  },
  {
   "cell_type": "code",
   "execution_count": null,
   "metadata": {},
   "outputs": [],
   "source": []
  },
  {
   "cell_type": "code",
   "execution_count": null,
   "metadata": {},
   "outputs": [],
   "source": []
  }
 ],
 "metadata": {
  "kernelspec": {
   "display_name": "Python 3",
   "language": "python",
   "name": "python3"
  },
  "language_info": {
   "codemirror_mode": {
    "name": "ipython",
    "version": 3
   },
   "file_extension": ".py",
   "mimetype": "text/x-python",
   "name": "python",
   "nbconvert_exporter": "python",
   "pygments_lexer": "ipython3",
   "version": "3.6.10"
  }
 },
 "nbformat": 4,
 "nbformat_minor": 4
}
