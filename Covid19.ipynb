{
 "cells": [
  {
   "cell_type": "markdown",
   "metadata": {},
   "source": [
    "# Covid-19 - Brasil\n",
    "## Redes Complexas - 2020/1\n",
    "Alunos: Johnny Gomes\n",
    "        e o Nomeriano Neto"
   ]
  },
  {
   "cell_type": "code",
   "execution_count": 1,
   "metadata": {},
   "outputs": [],
   "source": [
    "import pandas as pd\n",
    "import networkx as nx\n",
    "from matplotlib import pyplot as plt\n",
    "%matplotlib inline\n",
    "import seaborn as sns"
   ]
  },
  {
   "cell_type": "markdown",
   "metadata": {},
   "source": [
    "### Entendimento dos dados a partir de graficos e outros indicadores "
   ]
  },
  {
   "cell_type": "code",
   "execution_count": 2,
   "metadata": {},
   "outputs": [],
   "source": [
    "from bokeh.plotting import figure, output_file, show"
   ]
  },
  {
   "cell_type": "code",
   "execution_count": 3,
   "metadata": {},
   "outputs": [
    {
     "name": "stdout",
     "output_type": "stream",
     "text": [
      "2.4\n"
     ]
    }
   ],
   "source": [
    "print(nx.__version__)"
   ]
  },
  {
   "cell_type": "code",
   "execution_count": 4,
   "metadata": {
    "scrolled": true
   },
   "outputs": [
    {
     "data": {
      "text/html": [
       "<div>\n",
       "<style scoped>\n",
       "    .dataframe tbody tr th:only-of-type {\n",
       "        vertical-align: middle;\n",
       "    }\n",
       "\n",
       "    .dataframe tbody tr th {\n",
       "        vertical-align: top;\n",
       "    }\n",
       "\n",
       "    .dataframe thead th {\n",
       "        text-align: right;\n",
       "    }\n",
       "</style>\n",
       "<table border=\"1\" class=\"dataframe\">\n",
       "  <thead>\n",
       "    <tr style=\"text-align: right;\">\n",
       "      <th></th>\n",
       "      <th>regiao</th>\n",
       "      <th>estado</th>\n",
       "      <th>coduf</th>\n",
       "      <th>data</th>\n",
       "      <th>semanaEpi</th>\n",
       "      <th>casosAcumulado</th>\n",
       "      <th>casosNovos</th>\n",
       "      <th>obitosAcumulado</th>\n",
       "      <th>obitosNovos</th>\n",
       "    </tr>\n",
       "  </thead>\n",
       "  <tbody>\n",
       "    <tr>\n",
       "      <th>260</th>\n",
       "      <td>Norte</td>\n",
       "      <td>RR</td>\n",
       "      <td>14</td>\n",
       "      <td>02/04/20</td>\n",
       "      <td>14</td>\n",
       "      <td>26</td>\n",
       "      <td>4</td>\n",
       "      <td>0</td>\n",
       "      <td>0</td>\n",
       "    </tr>\n",
       "    <tr>\n",
       "      <th>82</th>\n",
       "      <td>Norte</td>\n",
       "      <td>AC</td>\n",
       "      <td>12</td>\n",
       "      <td>20/03/20</td>\n",
       "      <td>12</td>\n",
       "      <td>7</td>\n",
       "      <td>4</td>\n",
       "      <td>0</td>\n",
       "      <td>0</td>\n",
       "    </tr>\n",
       "    <tr>\n",
       "      <th>1672</th>\n",
       "      <td>Sudeste</td>\n",
       "      <td>SP</td>\n",
       "      <td>35</td>\n",
       "      <td>03/04/20</td>\n",
       "      <td>14</td>\n",
       "      <td>4048</td>\n",
       "      <td>542</td>\n",
       "      <td>219</td>\n",
       "      <td>31</td>\n",
       "    </tr>\n",
       "    <tr>\n",
       "      <th>1872</th>\n",
       "      <td>Sul</td>\n",
       "      <td>SC</td>\n",
       "      <td>42</td>\n",
       "      <td>26/04/20</td>\n",
       "      <td>18</td>\n",
       "      <td>1235</td>\n",
       "      <td>26</td>\n",
       "      <td>42</td>\n",
       "      <td>0</td>\n",
       "    </tr>\n",
       "    <tr>\n",
       "      <th>477</th>\n",
       "      <td>Norte</td>\n",
       "      <td>AP</td>\n",
       "      <td>16</td>\n",
       "      <td>26/05/20</td>\n",
       "      <td>22</td>\n",
       "      <td>6967</td>\n",
       "      <td>383</td>\n",
       "      <td>173</td>\n",
       "      <td>5</td>\n",
       "    </tr>\n",
       "  </tbody>\n",
       "</table>\n",
       "</div>"
      ],
      "text/plain": [
       "       regiao estado  coduf      data  semanaEpi  casosAcumulado  casosNovos  \\\n",
       "260     Norte     RR     14  02/04/20         14              26           4   \n",
       "82      Norte     AC     12  20/03/20         12               7           4   \n",
       "1672  Sudeste     SP     35  03/04/20         14            4048         542   \n",
       "1872      Sul     SC     42  26/04/20         18            1235          26   \n",
       "477     Norte     AP     16  26/05/20         22            6967         383   \n",
       "\n",
       "      obitosAcumulado  obitosNovos  \n",
       "260                 0            0  \n",
       "82                  0            0  \n",
       "1672              219           31  \n",
       "1872               42            0  \n",
       "477               173            5  "
      ]
     },
     "execution_count": 4,
     "metadata": {},
     "output_type": "execute_result"
    }
   ],
   "source": [
    "# lê info regionais - divididos por estados, inclusive\n",
    "df = pd.read_csv(\"./data/covid_regioes.csv\")\n",
    "df.sample(5)"
   ]
  },
  {
   "cell_type": "code",
   "execution_count": 5,
   "metadata": {},
   "outputs": [],
   "source": [
    "# le dados a partir do pandas dataframe:\n",
    "G = nx.from_pandas_edgelist(df, source='regiao', target='estado')\n"
   ]
  },
  {
   "cell_type": "code",
   "execution_count": 6,
   "metadata": {},
   "outputs": [
    {
     "data": {
      "image/png": "[encoded data removed]",
      "text/plain": [
       "<Figure size 432x288 with 1 Axes>"
      ]
     },
     "metadata": {},
     "output_type": "display_data"
    }
   ],
   "source": [
    "nx.draw(G, with_labels=True)"
   ]
  },
  {
   "cell_type": "code",
   "execution_count": null,
   "metadata": {},
   "outputs": [],
   "source": [
    "# 1 - pegar total de casos de cada estado dinamicamente:\n"
   ]
  },
  {
   "cell_type": "code",
   "execution_count": 7,
   "metadata": {},
   "outputs": [],
   "source": [
    "# atribui cor e diametro diferenciado para nos-regioes:\n",
    "G.add_node('Norte', dim= 'regiao',\n",
    "                    totalCasos = 0,\n",
    "                    totalMortes = 0)\n",
    "G.add_node('Nordeste', dim= 'regiao',\n",
    "                    totalCasos = 0,\n",
    "                    totalMortes = 0)\n",
    "G.add_node('Centro-Oeste', dim= 'regiao',\n",
    "                    totalCasos = 0,\n",
    "                    totalMortes = 0)\n",
    "G.add_node('Sudeste', dim= 'regiao',\n",
    "                    totalCasos = 0,\n",
    "                    totalMortes = 0)\n",
    "G.add_node('Sul', dim= 'regiao',\n",
    "                    totalCasos = 0,\n",
    "                    totalMortes = 0)"
   ]
  },
  {
   "cell_type": "code",
   "execution_count": 8,
   "metadata": {},
   "outputs": [],
   "source": [
    "# 2 - cria grafo a partir da distribuicao geografica das regioes:\n",
    "G.add_edges_from(\n",
    "    [('Norte', 'Nordeste'), ('Norte', 'Centro-Oeste'), ('Nordeste', 'Centro-Oeste'), ('Nordeste', 'Sudeste'),\n",
    "     ('Centro-Oeste', 'Sudeste'),('Centro-Oeste', 'Sul'), ('Sudeste', 'Sul')])\n",
    "\n",
    "#G.nodes(data=True)"
   ]
  },
  {
   "cell_type": "code",
   "execution_count": 20,
   "metadata": {
    "scrolled": true
   },
   "outputs": [],
   "source": [
    "color_map = []\n",
    "for node in G.nodes(data=True):\n",
    "    if (node[1]):\n",
    "#         print(node[1][1])\n",
    "        color_map.append('green')\n",
    "    else: \n",
    "        color_map.append('blue')"
   ]
  },
  {
   "cell_type": "code",
   "execution_count": 26,
   "metadata": {
    "scrolled": true
   },
   "outputs": [
    {
     "data": {
      "image/png": "[encoded data removed]",
      "text/plain": [
       "<Figure size 432x288 with 1 Axes>"
      ]
     },
     "metadata": {},
     "output_type": "display_data"
    }
   ],
   "source": [
    "# 2.2.1 - ver a estrutura do grafo:\n",
    "nx.draw(G, node_color=color_map, edge_color='purple', node_size=700, with_labels=True)"
   ]
  },
  {
   "cell_type": "code",
   "execution_count": null,
   "metadata": {},
   "outputs": [],
   "source": [
    "# 3 - atribuir numero de casos/mortes a cada nó-estado:\n"
   ]
  },
  {
   "cell_type": "code",
   "execution_count": null,
   "metadata": {},
   "outputs": [],
   "source": [
    "# 4 - somar valores dos nós-estado e atribuir a sua respectiva regiao:\n"
   ]
  },
  {
   "cell_type": "code",
   "execution_count": null,
   "metadata": {},
   "outputs": [],
   "source": [
    "# 5 - O diametro do nó é relativo ao numero de casos (usar interpolador entre o menor e maior numero):\n"
   ]
  },
  {
   "cell_type": "code",
   "execution_count": null,
   "metadata": {},
   "outputs": [],
   "source": [
    "# 6 - animar o grafo e adicionar 'hover' com informacoes de numero de casos/mortes e/ou outras:\n"
   ]
  },
  {
   "cell_type": "code",
   "execution_count": null,
   "metadata": {},
   "outputs": [],
   "source": [
    "# grafico do crescimento de novos casos ao longos das semanas (estado == 'TO')\n",
    "sns.relplot(x=\"semanaEpi\", y=\"casosNovos\",\n",
    "            sizes=(60, 600), alpha=.5, size='casosAcumulado', palette=\"muted\",\n",
    "            height=6, data=casos_TO)"
   ]
  },
  {
   "cell_type": "code",
   "execution_count": null,
   "metadata": {},
   "outputs": [],
   "source": [
    "# grafico do crescimento de novos casos ao longos das semanas (estado == 'AM')\n",
    "sns.relplot(x=\"semanaEpi\", y=\"casosNovos\",\n",
    "            sizes=(60, 600), alpha=.5, size='casosNovos', palette=\"muted\",\n",
    "            height=6, data=casos_AM)"
   ]
  },
  {
   "cell_type": "code",
   "execution_count": null,
   "metadata": {},
   "outputs": [],
   "source": [
    "# pega total de casos acumulados no Tocantins:\n",
    "casos_TO.casosAcumulado[-1:]"
   ]
  },
  {
   "cell_type": "code",
   "execution_count": null,
   "metadata": {},
   "outputs": [],
   "source": [
    "casos_TO.data"
   ]
  },
  {
   "cell_type": "code",
   "execution_count": null,
   "metadata": {},
   "outputs": [],
   "source": []
  },
  {
   "cell_type": "markdown",
   "metadata": {},
   "source": [
    "### Documentacao do processo - Pipeline da Produção da Rede Covid-19 - Brasil\n",
    "\n",
    "\n",
    "Obs.: Esse _pipeline_ foi desenvolvido para trabalhos na área de **Descoberta de Conhecimento**, entretanto a certo ponto os passos bem definidos podem ajudar na compreensão e tratamento dos dados e posterior obtenção e apresentação do conhecimento obtido.\n",
    "\n",
    "mais informações em: [KDD - Descoberta de Conhecimento em Bases de Dados](https://lume.ufrgs.br/handle/10183/8968)"
   ]
  },
  {
   "cell_type": "markdown",
   "metadata": {},
   "source": [
    "### 1. Entendimento do dominio da aplicação:"
   ]
  },
  {
   "cell_type": "markdown",
   "metadata": {},
   "source": [
    "Estudamos sobre Covid-19 e sobre a propagacao do virus pelo mundo"
   ]
  },
  {
   "cell_type": "markdown",
   "metadata": {},
   "source": [
    "### 2. Criação da base de dados de interesse:"
   ]
  },
  {
   "cell_type": "markdown",
   "metadata": {},
   "source": [
    "A base de dados foi criada por orgao federal e disponibilizada em:\n",
    "[Saúde.Gov](https://covid.saude.gov.br/) mais informacoes em [SUS Analítico](https://susanalitico.saude.gov.br/)"
   ]
  },
  {
   "cell_type": "markdown",
   "metadata": {},
   "source": [
    "### 3. Limpeza de dados e pré processamento:"
   ]
  },
  {
   "cell_type": "markdown",
   "metadata": {},
   "source": [
    "#### 3.a) Limpeza dos dados:"
   ]
  },
  {
   "cell_type": "markdown",
   "metadata": {},
   "source": [
    "Dividimos a base original em tres arquivos contendo: \n",
    "    1. Dados gerais do pais;\n",
    "    2. Dados regionais;\n",
    "    3. Dados estaduais e municipais;\n",
    "    \n",
    "Algumas colunas se fizeram desnecessarias, como o numero de habitantes em cada uma dessas microregioes por isso, foram descartadas da base em que trabalhamos."
   ]
  },
  {
   "cell_type": "markdown",
   "metadata": {},
   "source": [
    "#### 3.b) Integração dos dados:"
   ]
  },
  {
   "cell_type": "markdown",
   "metadata": {},
   "source": [
    "Nao houve integracao de dados novos ou externos à base já existente."
   ]
  },
  {
   "cell_type": "markdown",
   "metadata": {},
   "source": [
    "#### 3.c) Transformação dos dados:"
   ]
  },
  {
   "cell_type": "markdown",
   "metadata": {},
   "source": [
    "### 4. Redução e Projeção de Dados:"
   ]
  },
  {
   "cell_type": "markdown",
   "metadata": {},
   "source": [
    "### 5. Escolha das funções de mineração:"
   ]
  },
  {
   "cell_type": "markdown",
   "metadata": {},
   "source": [
    "### 6. Escolha dos algoritmos de mineração:"
   ]
  },
  {
   "cell_type": "markdown",
   "metadata": {},
   "source": [
    "### 7. Mineração:"
   ]
  },
  {
   "cell_type": "markdown",
   "metadata": {},
   "source": [
    "### 8. Interpretação dos dados:"
   ]
  },
  {
   "cell_type": "markdown",
   "metadata": {},
   "source": [
    "### 9. Utilização/Publicação/Compartilhamento do conhecimento descoberto:"
   ]
  }
 ],
 "metadata": {
  "kernelspec": {
   "display_name": "Python 3",
   "language": "python",
   "name": "python3"
  },
  "language_info": {
   "codemirror_mode": {
    "name": "ipython",
    "version": 3
   },
   "file_extension": ".py",
   "mimetype": "text/x-python",
   "name": "python",
   "nbconvert_exporter": "python",
   "pygments_lexer": "ipython3",
   "version": "3.6.10"
  }
 },
 "nbformat": 4,
 "nbformat_minor": 4
}
